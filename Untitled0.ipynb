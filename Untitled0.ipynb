{
  "nbformat": 4,
  "nbformat_minor": 0,
  "metadata": {
    "colab": {
      "name": "Untitled0.ipynb",
      "provenance": [],
      "include_colab_link": true
    },
    "kernelspec": {
      "name": "python3",
      "display_name": "Python 3"
    },
    "language_info": {
      "name": "python"
    },
    "accelerator": "GPU",
    "widgets": {
      "application/vnd.jupyter.widget-state+json": {
        "bdb62593c1ad4f07b86cfeeb6c24b8a0": {
          "model_module": "@jupyter-widgets/controls",
          "model_name": "HBoxModel",
          "model_module_version": "1.5.0",
          "state": {
            "_view_name": "HBoxView",
            "_dom_classes": [],
            "_model_name": "HBoxModel",
            "_view_module": "@jupyter-widgets/controls",
            "_model_module_version": "1.5.0",
            "_view_count": null,
            "_view_module_version": "1.5.0",
            "box_style": "",
            "layout": "IPY_MODEL_ce918f09201a423296421e8a82377d38",
            "_model_module": "@jupyter-widgets/controls",
            "children": [
              "IPY_MODEL_af2e5e88cdf144d98d83ae468ba4419e",
              "IPY_MODEL_32a2f1b424ad41feb95de3b2c14ae72d",
              "IPY_MODEL_150fdf4129244306840bf26caffc8508"
            ]
          }
        },
        "ce918f09201a423296421e8a82377d38": {
          "model_module": "@jupyter-widgets/base",
          "model_name": "LayoutModel",
          "model_module_version": "1.2.0",
          "state": {
            "_view_name": "LayoutView",
            "grid_template_rows": null,
            "right": null,
            "justify_content": null,
            "_view_module": "@jupyter-widgets/base",
            "overflow": null,
            "_model_module_version": "1.2.0",
            "_view_count": null,
            "flex_flow": null,
            "width": null,
            "min_width": null,
            "border": null,
            "align_items": null,
            "bottom": null,
            "_model_module": "@jupyter-widgets/base",
            "top": null,
            "grid_column": null,
            "overflow_y": null,
            "overflow_x": null,
            "grid_auto_flow": null,
            "grid_area": null,
            "grid_template_columns": null,
            "flex": null,
            "_model_name": "LayoutModel",
            "justify_items": null,
            "grid_row": null,
            "max_height": null,
            "align_content": null,
            "visibility": null,
            "align_self": null,
            "height": null,
            "min_height": null,
            "padding": null,
            "grid_auto_rows": null,
            "grid_gap": null,
            "max_width": null,
            "order": null,
            "_view_module_version": "1.2.0",
            "grid_template_areas": null,
            "object_position": null,
            "object_fit": null,
            "grid_auto_columns": null,
            "margin": null,
            "display": null,
            "left": null
          }
        },
        "af2e5e88cdf144d98d83ae468ba4419e": {
          "model_module": "@jupyter-widgets/controls",
          "model_name": "HTMLModel",
          "model_module_version": "1.5.0",
          "state": {
            "_view_name": "HTMLView",
            "style": "IPY_MODEL_a6ed22346d144e018cea2108b5dbf382",
            "_dom_classes": [],
            "description": "",
            "_model_name": "HTMLModel",
            "placeholder": "​",
            "_view_module": "@jupyter-widgets/controls",
            "_model_module_version": "1.5.0",
            "value": "Downloading: 100%",
            "_view_count": null,
            "_view_module_version": "1.5.0",
            "description_tooltip": null,
            "_model_module": "@jupyter-widgets/controls",
            "layout": "IPY_MODEL_17a4a596ae884d8db911c5e284cc6bdc"
          }
        },
        "32a2f1b424ad41feb95de3b2c14ae72d": {
          "model_module": "@jupyter-widgets/controls",
          "model_name": "FloatProgressModel",
          "model_module_version": "1.5.0",
          "state": {
            "_view_name": "ProgressView",
            "style": "IPY_MODEL_e37c66d00e9a4b2899090eea3e67fbb8",
            "_dom_classes": [],
            "description": "",
            "_model_name": "FloatProgressModel",
            "bar_style": "success",
            "max": 1912529,
            "_view_module": "@jupyter-widgets/controls",
            "_model_module_version": "1.5.0",
            "value": 1912529,
            "_view_count": null,
            "_view_module_version": "1.5.0",
            "orientation": "horizontal",
            "min": 0,
            "description_tooltip": null,
            "_model_module": "@jupyter-widgets/controls",
            "layout": "IPY_MODEL_3547263998a142178b10142e9107f17b"
          }
        },
        "150fdf4129244306840bf26caffc8508": {
          "model_module": "@jupyter-widgets/controls",
          "model_name": "HTMLModel",
          "model_module_version": "1.5.0",
          "state": {
            "_view_name": "HTMLView",
            "style": "IPY_MODEL_eeecce1aee804dac954d159556e30c32",
            "_dom_classes": [],
            "description": "",
            "_model_name": "HTMLModel",
            "placeholder": "​",
            "_view_module": "@jupyter-widgets/controls",
            "_model_module_version": "1.5.0",
            "value": " 1.91M/1.91M [00:00&lt;00:00, 7.02MB/s]",
            "_view_count": null,
            "_view_module_version": "1.5.0",
            "description_tooltip": null,
            "_model_module": "@jupyter-widgets/controls",
            "layout": "IPY_MODEL_bfa977e534014a44bb4d7e5ff3578807"
          }
        },
        "a6ed22346d144e018cea2108b5dbf382": {
          "model_module": "@jupyter-widgets/controls",
          "model_name": "DescriptionStyleModel",
          "model_module_version": "1.5.0",
          "state": {
            "_view_name": "StyleView",
            "_model_name": "DescriptionStyleModel",
            "description_width": "",
            "_view_module": "@jupyter-widgets/base",
            "_model_module_version": "1.5.0",
            "_view_count": null,
            "_view_module_version": "1.2.0",
            "_model_module": "@jupyter-widgets/controls"
          }
        },
        "17a4a596ae884d8db911c5e284cc6bdc": {
          "model_module": "@jupyter-widgets/base",
          "model_name": "LayoutModel",
          "model_module_version": "1.2.0",
          "state": {
            "_view_name": "LayoutView",
            "grid_template_rows": null,
            "right": null,
            "justify_content": null,
            "_view_module": "@jupyter-widgets/base",
            "overflow": null,
            "_model_module_version": "1.2.0",
            "_view_count": null,
            "flex_flow": null,
            "width": null,
            "min_width": null,
            "border": null,
            "align_items": null,
            "bottom": null,
            "_model_module": "@jupyter-widgets/base",
            "top": null,
            "grid_column": null,
            "overflow_y": null,
            "overflow_x": null,
            "grid_auto_flow": null,
            "grid_area": null,
            "grid_template_columns": null,
            "flex": null,
            "_model_name": "LayoutModel",
            "justify_items": null,
            "grid_row": null,
            "max_height": null,
            "align_content": null,
            "visibility": null,
            "align_self": null,
            "height": null,
            "min_height": null,
            "padding": null,
            "grid_auto_rows": null,
            "grid_gap": null,
            "max_width": null,
            "order": null,
            "_view_module_version": "1.2.0",
            "grid_template_areas": null,
            "object_position": null,
            "object_fit": null,
            "grid_auto_columns": null,
            "margin": null,
            "display": null,
            "left": null
          }
        },
        "e37c66d00e9a4b2899090eea3e67fbb8": {
          "model_module": "@jupyter-widgets/controls",
          "model_name": "ProgressStyleModel",
          "model_module_version": "1.5.0",
          "state": {
            "_view_name": "StyleView",
            "_model_name": "ProgressStyleModel",
            "description_width": "",
            "_view_module": "@jupyter-widgets/base",
            "_model_module_version": "1.5.0",
            "_view_count": null,
            "_view_module_version": "1.2.0",
            "bar_color": null,
            "_model_module": "@jupyter-widgets/controls"
          }
        },
        "3547263998a142178b10142e9107f17b": {
          "model_module": "@jupyter-widgets/base",
          "model_name": "LayoutModel",
          "model_module_version": "1.2.0",
          "state": {
            "_view_name": "LayoutView",
            "grid_template_rows": null,
            "right": null,
            "justify_content": null,
            "_view_module": "@jupyter-widgets/base",
            "overflow": null,
            "_model_module_version": "1.2.0",
            "_view_count": null,
            "flex_flow": null,
            "width": null,
            "min_width": null,
            "border": null,
            "align_items": null,
            "bottom": null,
            "_model_module": "@jupyter-widgets/base",
            "top": null,
            "grid_column": null,
            "overflow_y": null,
            "overflow_x": null,
            "grid_auto_flow": null,
            "grid_area": null,
            "grid_template_columns": null,
            "flex": null,
            "_model_name": "LayoutModel",
            "justify_items": null,
            "grid_row": null,
            "max_height": null,
            "align_content": null,
            "visibility": null,
            "align_self": null,
            "height": null,
            "min_height": null,
            "padding": null,
            "grid_auto_rows": null,
            "grid_gap": null,
            "max_width": null,
            "order": null,
            "_view_module_version": "1.2.0",
            "grid_template_areas": null,
            "object_position": null,
            "object_fit": null,
            "grid_auto_columns": null,
            "margin": null,
            "display": null,
            "left": null
          }
        },
        "eeecce1aee804dac954d159556e30c32": {
          "model_module": "@jupyter-widgets/controls",
          "model_name": "DescriptionStyleModel",
          "model_module_version": "1.5.0",
          "state": {
            "_view_name": "StyleView",
            "_model_name": "DescriptionStyleModel",
            "description_width": "",
            "_view_module": "@jupyter-widgets/base",
            "_model_module_version": "1.5.0",
            "_view_count": null,
            "_view_module_version": "1.2.0",
            "_model_module": "@jupyter-widgets/controls"
          }
        },
        "bfa977e534014a44bb4d7e5ff3578807": {
          "model_module": "@jupyter-widgets/base",
          "model_name": "LayoutModel",
          "model_module_version": "1.2.0",
          "state": {
            "_view_name": "LayoutView",
            "grid_template_rows": null,
            "right": null,
            "justify_content": null,
            "_view_module": "@jupyter-widgets/base",
            "overflow": null,
            "_model_module_version": "1.2.0",
            "_view_count": null,
            "flex_flow": null,
            "width": null,
            "min_width": null,
            "border": null,
            "align_items": null,
            "bottom": null,
            "_model_module": "@jupyter-widgets/base",
            "top": null,
            "grid_column": null,
            "overflow_y": null,
            "overflow_x": null,
            "grid_auto_flow": null,
            "grid_area": null,
            "grid_template_columns": null,
            "flex": null,
            "_model_name": "LayoutModel",
            "justify_items": null,
            "grid_row": null,
            "max_height": null,
            "align_content": null,
            "visibility": null,
            "align_self": null,
            "height": null,
            "min_height": null,
            "padding": null,
            "grid_auto_rows": null,
            "grid_gap": null,
            "max_width": null,
            "order": null,
            "_view_module_version": "1.2.0",
            "grid_template_areas": null,
            "object_position": null,
            "object_fit": null,
            "grid_auto_columns": null,
            "margin": null,
            "display": null,
            "left": null
          }
        },
        "238671d52151499d93e889e9b65fef15": {
          "model_module": "@jupyter-widgets/controls",
          "model_name": "HBoxModel",
          "model_module_version": "1.5.0",
          "state": {
            "_view_name": "HBoxView",
            "_dom_classes": [],
            "_model_name": "HBoxModel",
            "_view_module": "@jupyter-widgets/controls",
            "_model_module_version": "1.5.0",
            "_view_count": null,
            "_view_module_version": "1.5.0",
            "box_style": "",
            "layout": "IPY_MODEL_08e97f563da64a59ac3db0b22471b42b",
            "_model_module": "@jupyter-widgets/controls",
            "children": [
              "IPY_MODEL_90dc59b61cff4e17b1423fdd52623035",
              "IPY_MODEL_1a7840a2a7ef4eb19f09e25fd74f6431",
              "IPY_MODEL_1aee80f9001840c0a7179056880a7072"
            ]
          }
        },
        "08e97f563da64a59ac3db0b22471b42b": {
          "model_module": "@jupyter-widgets/base",
          "model_name": "LayoutModel",
          "model_module_version": "1.2.0",
          "state": {
            "_view_name": "LayoutView",
            "grid_template_rows": null,
            "right": null,
            "justify_content": null,
            "_view_module": "@jupyter-widgets/base",
            "overflow": null,
            "_model_module_version": "1.2.0",
            "_view_count": null,
            "flex_flow": null,
            "width": null,
            "min_width": null,
            "border": null,
            "align_items": null,
            "bottom": null,
            "_model_module": "@jupyter-widgets/base",
            "top": null,
            "grid_column": null,
            "overflow_y": null,
            "overflow_x": null,
            "grid_auto_flow": null,
            "grid_area": null,
            "grid_template_columns": null,
            "flex": null,
            "_model_name": "LayoutModel",
            "justify_items": null,
            "grid_row": null,
            "max_height": null,
            "align_content": null,
            "visibility": null,
            "align_self": null,
            "height": null,
            "min_height": null,
            "padding": null,
            "grid_auto_rows": null,
            "grid_gap": null,
            "max_width": null,
            "order": null,
            "_view_module_version": "1.2.0",
            "grid_template_areas": null,
            "object_position": null,
            "object_fit": null,
            "grid_auto_columns": null,
            "margin": null,
            "display": null,
            "left": null
          }
        },
        "90dc59b61cff4e17b1423fdd52623035": {
          "model_module": "@jupyter-widgets/controls",
          "model_name": "HTMLModel",
          "model_module_version": "1.5.0",
          "state": {
            "_view_name": "HTMLView",
            "style": "IPY_MODEL_ded7e7fd3139478aab8fb513fb5b5ef6",
            "_dom_classes": [],
            "description": "",
            "_model_name": "HTMLModel",
            "placeholder": "​",
            "_view_module": "@jupyter-widgets/controls",
            "_model_module_version": "1.5.0",
            "value": "Downloading: 100%",
            "_view_count": null,
            "_view_module_version": "1.5.0",
            "description_tooltip": null,
            "_model_module": "@jupyter-widgets/controls",
            "layout": "IPY_MODEL_482dbfc67c0c4f6f81d29ffca30bfa4a"
          }
        },
        "1a7840a2a7ef4eb19f09e25fd74f6431": {
          "model_module": "@jupyter-widgets/controls",
          "model_name": "FloatProgressModel",
          "model_module_version": "1.5.0",
          "state": {
            "_view_name": "ProgressView",
            "style": "IPY_MODEL_8fe93f95682e49cebecb330b2cdd4149",
            "_dom_classes": [],
            "description": "",
            "_model_name": "FloatProgressModel",
            "bar_style": "success",
            "max": 65,
            "_view_module": "@jupyter-widgets/controls",
            "_model_module_version": "1.5.0",
            "value": 65,
            "_view_count": null,
            "_view_module_version": "1.5.0",
            "orientation": "horizontal",
            "min": 0,
            "description_tooltip": null,
            "_model_module": "@jupyter-widgets/controls",
            "layout": "IPY_MODEL_e0a4f353351c423d80a9dcf30dd85a3c"
          }
        },
        "1aee80f9001840c0a7179056880a7072": {
          "model_module": "@jupyter-widgets/controls",
          "model_name": "HTMLModel",
          "model_module_version": "1.5.0",
          "state": {
            "_view_name": "HTMLView",
            "style": "IPY_MODEL_9f89c90b25df4452b85f3b8eb080a021",
            "_dom_classes": [],
            "description": "",
            "_model_name": "HTMLModel",
            "placeholder": "​",
            "_view_module": "@jupyter-widgets/controls",
            "_model_module_version": "1.5.0",
            "value": " 65.0/65.0 [00:00&lt;00:00, 1.62kB/s]",
            "_view_count": null,
            "_view_module_version": "1.5.0",
            "description_tooltip": null,
            "_model_module": "@jupyter-widgets/controls",
            "layout": "IPY_MODEL_2df7989dc34e4184a693d2710829cc0e"
          }
        },
        "ded7e7fd3139478aab8fb513fb5b5ef6": {
          "model_module": "@jupyter-widgets/controls",
          "model_name": "DescriptionStyleModel",
          "model_module_version": "1.5.0",
          "state": {
            "_view_name": "StyleView",
            "_model_name": "DescriptionStyleModel",
            "description_width": "",
            "_view_module": "@jupyter-widgets/base",
            "_model_module_version": "1.5.0",
            "_view_count": null,
            "_view_module_version": "1.2.0",
            "_model_module": "@jupyter-widgets/controls"
          }
        },
        "482dbfc67c0c4f6f81d29ffca30bfa4a": {
          "model_module": "@jupyter-widgets/base",
          "model_name": "LayoutModel",
          "model_module_version": "1.2.0",
          "state": {
            "_view_name": "LayoutView",
            "grid_template_rows": null,
            "right": null,
            "justify_content": null,
            "_view_module": "@jupyter-widgets/base",
            "overflow": null,
            "_model_module_version": "1.2.0",
            "_view_count": null,
            "flex_flow": null,
            "width": null,
            "min_width": null,
            "border": null,
            "align_items": null,
            "bottom": null,
            "_model_module": "@jupyter-widgets/base",
            "top": null,
            "grid_column": null,
            "overflow_y": null,
            "overflow_x": null,
            "grid_auto_flow": null,
            "grid_area": null,
            "grid_template_columns": null,
            "flex": null,
            "_model_name": "LayoutModel",
            "justify_items": null,
            "grid_row": null,
            "max_height": null,
            "align_content": null,
            "visibility": null,
            "align_self": null,
            "height": null,
            "min_height": null,
            "padding": null,
            "grid_auto_rows": null,
            "grid_gap": null,
            "max_width": null,
            "order": null,
            "_view_module_version": "1.2.0",
            "grid_template_areas": null,
            "object_position": null,
            "object_fit": null,
            "grid_auto_columns": null,
            "margin": null,
            "display": null,
            "left": null
          }
        },
        "8fe93f95682e49cebecb330b2cdd4149": {
          "model_module": "@jupyter-widgets/controls",
          "model_name": "ProgressStyleModel",
          "model_module_version": "1.5.0",
          "state": {
            "_view_name": "StyleView",
            "_model_name": "ProgressStyleModel",
            "description_width": "",
            "_view_module": "@jupyter-widgets/base",
            "_model_module_version": "1.5.0",
            "_view_count": null,
            "_view_module_version": "1.2.0",
            "bar_color": null,
            "_model_module": "@jupyter-widgets/controls"
          }
        },
        "e0a4f353351c423d80a9dcf30dd85a3c": {
          "model_module": "@jupyter-widgets/base",
          "model_name": "LayoutModel",
          "model_module_version": "1.2.0",
          "state": {
            "_view_name": "LayoutView",
            "grid_template_rows": null,
            "right": null,
            "justify_content": null,
            "_view_module": "@jupyter-widgets/base",
            "overflow": null,
            "_model_module_version": "1.2.0",
            "_view_count": null,
            "flex_flow": null,
            "width": null,
            "min_width": null,
            "border": null,
            "align_items": null,
            "bottom": null,
            "_model_module": "@jupyter-widgets/base",
            "top": null,
            "grid_column": null,
            "overflow_y": null,
            "overflow_x": null,
            "grid_auto_flow": null,
            "grid_area": null,
            "grid_template_columns": null,
            "flex": null,
            "_model_name": "LayoutModel",
            "justify_items": null,
            "grid_row": null,
            "max_height": null,
            "align_content": null,
            "visibility": null,
            "align_self": null,
            "height": null,
            "min_height": null,
            "padding": null,
            "grid_auto_rows": null,
            "grid_gap": null,
            "max_width": null,
            "order": null,
            "_view_module_version": "1.2.0",
            "grid_template_areas": null,
            "object_position": null,
            "object_fit": null,
            "grid_auto_columns": null,
            "margin": null,
            "display": null,
            "left": null
          }
        },
        "9f89c90b25df4452b85f3b8eb080a021": {
          "model_module": "@jupyter-widgets/controls",
          "model_name": "DescriptionStyleModel",
          "model_module_version": "1.5.0",
          "state": {
            "_view_name": "StyleView",
            "_model_name": "DescriptionStyleModel",
            "description_width": "",
            "_view_module": "@jupyter-widgets/base",
            "_model_module_version": "1.5.0",
            "_view_count": null,
            "_view_module_version": "1.2.0",
            "_model_module": "@jupyter-widgets/controls"
          }
        },
        "2df7989dc34e4184a693d2710829cc0e": {
          "model_module": "@jupyter-widgets/base",
          "model_name": "LayoutModel",
          "model_module_version": "1.2.0",
          "state": {
            "_view_name": "LayoutView",
            "grid_template_rows": null,
            "right": null,
            "justify_content": null,
            "_view_module": "@jupyter-widgets/base",
            "overflow": null,
            "_model_module_version": "1.2.0",
            "_view_count": null,
            "flex_flow": null,
            "width": null,
            "min_width": null,
            "border": null,
            "align_items": null,
            "bottom": null,
            "_model_module": "@jupyter-widgets/base",
            "top": null,
            "grid_column": null,
            "overflow_y": null,
            "overflow_x": null,
            "grid_auto_flow": null,
            "grid_area": null,
            "grid_template_columns": null,
            "flex": null,
            "_model_name": "LayoutModel",
            "justify_items": null,
            "grid_row": null,
            "max_height": null,
            "align_content": null,
            "visibility": null,
            "align_self": null,
            "height": null,
            "min_height": null,
            "padding": null,
            "grid_auto_rows": null,
            "grid_gap": null,
            "max_width": null,
            "order": null,
            "_view_module_version": "1.2.0",
            "grid_template_areas": null,
            "object_position": null,
            "object_fit": null,
            "grid_auto_columns": null,
            "margin": null,
            "display": null,
            "left": null
          }
        },
        "c766d787576e47969e0bd103afee0d33": {
          "model_module": "@jupyter-widgets/controls",
          "model_name": "HBoxModel",
          "model_module_version": "1.5.0",
          "state": {
            "_view_name": "HBoxView",
            "_dom_classes": [],
            "_model_name": "HBoxModel",
            "_view_module": "@jupyter-widgets/controls",
            "_model_module_version": "1.5.0",
            "_view_count": null,
            "_view_module_version": "1.5.0",
            "box_style": "",
            "layout": "IPY_MODEL_8a602f41c66e49779c579a68b4959b1e",
            "_model_module": "@jupyter-widgets/controls",
            "children": [
              "IPY_MODEL_32ab3433ee5f4815a9d83ef797d13993",
              "IPY_MODEL_5eb73cc67a68405da029889ed928190d",
              "IPY_MODEL_107b0e567fbd48e9b49cc705a3b52c6b"
            ]
          }
        },
        "8a602f41c66e49779c579a68b4959b1e": {
          "model_module": "@jupyter-widgets/base",
          "model_name": "LayoutModel",
          "model_module_version": "1.2.0",
          "state": {
            "_view_name": "LayoutView",
            "grid_template_rows": null,
            "right": null,
            "justify_content": null,
            "_view_module": "@jupyter-widgets/base",
            "overflow": null,
            "_model_module_version": "1.2.0",
            "_view_count": null,
            "flex_flow": null,
            "width": null,
            "min_width": null,
            "border": null,
            "align_items": null,
            "bottom": null,
            "_model_module": "@jupyter-widgets/base",
            "top": null,
            "grid_column": null,
            "overflow_y": null,
            "overflow_x": null,
            "grid_auto_flow": null,
            "grid_area": null,
            "grid_template_columns": null,
            "flex": null,
            "_model_name": "LayoutModel",
            "justify_items": null,
            "grid_row": null,
            "max_height": null,
            "align_content": null,
            "visibility": null,
            "align_self": null,
            "height": null,
            "min_height": null,
            "padding": null,
            "grid_auto_rows": null,
            "grid_gap": null,
            "max_width": null,
            "order": null,
            "_view_module_version": "1.2.0",
            "grid_template_areas": null,
            "object_position": null,
            "object_fit": null,
            "grid_auto_columns": null,
            "margin": null,
            "display": null,
            "left": null
          }
        },
        "32ab3433ee5f4815a9d83ef797d13993": {
          "model_module": "@jupyter-widgets/controls",
          "model_name": "HTMLModel",
          "model_module_version": "1.5.0",
          "state": {
            "_view_name": "HTMLView",
            "style": "IPY_MODEL_3cc91245b6d842ca9cc3339f0d219c2e",
            "_dom_classes": [],
            "description": "",
            "_model_name": "HTMLModel",
            "placeholder": "​",
            "_view_module": "@jupyter-widgets/controls",
            "_model_module_version": "1.5.0",
            "value": "Downloading: 100%",
            "_view_count": null,
            "_view_module_version": "1.5.0",
            "description_tooltip": null,
            "_model_module": "@jupyter-widgets/controls",
            "layout": "IPY_MODEL_e1457a1d127b40ab8a518217c9632b75"
          }
        },
        "5eb73cc67a68405da029889ed928190d": {
          "model_module": "@jupyter-widgets/controls",
          "model_name": "FloatProgressModel",
          "model_module_version": "1.5.0",
          "state": {
            "_view_name": "ProgressView",
            "style": "IPY_MODEL_9aa0f534b6e34a7fa9c9c38ce7c32adc",
            "_dom_classes": [],
            "description": "",
            "_model_name": "FloatProgressModel",
            "bar_style": "success",
            "max": 86,
            "_view_module": "@jupyter-widgets/controls",
            "_model_module_version": "1.5.0",
            "value": 86,
            "_view_count": null,
            "_view_module_version": "1.5.0",
            "orientation": "horizontal",
            "min": 0,
            "description_tooltip": null,
            "_model_module": "@jupyter-widgets/controls",
            "layout": "IPY_MODEL_1753698d7d094a289f5833602be2eaee"
          }
        },
        "107b0e567fbd48e9b49cc705a3b52c6b": {
          "model_module": "@jupyter-widgets/controls",
          "model_name": "HTMLModel",
          "model_module_version": "1.5.0",
          "state": {
            "_view_name": "HTMLView",
            "style": "IPY_MODEL_929ff2f4bee643bd85f14c3a0a06a599",
            "_dom_classes": [],
            "description": "",
            "_model_name": "HTMLModel",
            "placeholder": "​",
            "_view_module": "@jupyter-widgets/controls",
            "_model_module_version": "1.5.0",
            "value": " 86.0/86.0 [00:00&lt;00:00, 2.31kB/s]",
            "_view_count": null,
            "_view_module_version": "1.5.0",
            "description_tooltip": null,
            "_model_module": "@jupyter-widgets/controls",
            "layout": "IPY_MODEL_fabcf4803141433caa1fb18e6657f964"
          }
        },
        "3cc91245b6d842ca9cc3339f0d219c2e": {
          "model_module": "@jupyter-widgets/controls",
          "model_name": "DescriptionStyleModel",
          "model_module_version": "1.5.0",
          "state": {
            "_view_name": "StyleView",
            "_model_name": "DescriptionStyleModel",
            "description_width": "",
            "_view_module": "@jupyter-widgets/base",
            "_model_module_version": "1.5.0",
            "_view_count": null,
            "_view_module_version": "1.2.0",
            "_model_module": "@jupyter-widgets/controls"
          }
        },
        "e1457a1d127b40ab8a518217c9632b75": {
          "model_module": "@jupyter-widgets/base",
          "model_name": "LayoutModel",
          "model_module_version": "1.2.0",
          "state": {
            "_view_name": "LayoutView",
            "grid_template_rows": null,
            "right": null,
            "justify_content": null,
            "_view_module": "@jupyter-widgets/base",
            "overflow": null,
            "_model_module_version": "1.2.0",
            "_view_count": null,
            "flex_flow": null,
            "width": null,
            "min_width": null,
            "border": null,
            "align_items": null,
            "bottom": null,
            "_model_module": "@jupyter-widgets/base",
            "top": null,
            "grid_column": null,
            "overflow_y": null,
            "overflow_x": null,
            "grid_auto_flow": null,
            "grid_area": null,
            "grid_template_columns": null,
            "flex": null,
            "_model_name": "LayoutModel",
            "justify_items": null,
            "grid_row": null,
            "max_height": null,
            "align_content": null,
            "visibility": null,
            "align_self": null,
            "height": null,
            "min_height": null,
            "padding": null,
            "grid_auto_rows": null,
            "grid_gap": null,
            "max_width": null,
            "order": null,
            "_view_module_version": "1.2.0",
            "grid_template_areas": null,
            "object_position": null,
            "object_fit": null,
            "grid_auto_columns": null,
            "margin": null,
            "display": null,
            "left": null
          }
        },
        "9aa0f534b6e34a7fa9c9c38ce7c32adc": {
          "model_module": "@jupyter-widgets/controls",
          "model_name": "ProgressStyleModel",
          "model_module_version": "1.5.0",
          "state": {
            "_view_name": "StyleView",
            "_model_name": "ProgressStyleModel",
            "description_width": "",
            "_view_module": "@jupyter-widgets/base",
            "_model_module_version": "1.5.0",
            "_view_count": null,
            "_view_module_version": "1.2.0",
            "bar_color": null,
            "_model_module": "@jupyter-widgets/controls"
          }
        },
        "1753698d7d094a289f5833602be2eaee": {
          "model_module": "@jupyter-widgets/base",
          "model_name": "LayoutModel",
          "model_module_version": "1.2.0",
          "state": {
            "_view_name": "LayoutView",
            "grid_template_rows": null,
            "right": null,
            "justify_content": null,
            "_view_module": "@jupyter-widgets/base",
            "overflow": null,
            "_model_module_version": "1.2.0",
            "_view_count": null,
            "flex_flow": null,
            "width": null,
            "min_width": null,
            "border": null,
            "align_items": null,
            "bottom": null,
            "_model_module": "@jupyter-widgets/base",
            "top": null,
            "grid_column": null,
            "overflow_y": null,
            "overflow_x": null,
            "grid_auto_flow": null,
            "grid_area": null,
            "grid_template_columns": null,
            "flex": null,
            "_model_name": "LayoutModel",
            "justify_items": null,
            "grid_row": null,
            "max_height": null,
            "align_content": null,
            "visibility": null,
            "align_self": null,
            "height": null,
            "min_height": null,
            "padding": null,
            "grid_auto_rows": null,
            "grid_gap": null,
            "max_width": null,
            "order": null,
            "_view_module_version": "1.2.0",
            "grid_template_areas": null,
            "object_position": null,
            "object_fit": null,
            "grid_auto_columns": null,
            "margin": null,
            "display": null,
            "left": null
          }
        },
        "929ff2f4bee643bd85f14c3a0a06a599": {
          "model_module": "@jupyter-widgets/controls",
          "model_name": "DescriptionStyleModel",
          "model_module_version": "1.5.0",
          "state": {
            "_view_name": "StyleView",
            "_model_name": "DescriptionStyleModel",
            "description_width": "",
            "_view_module": "@jupyter-widgets/base",
            "_model_module_version": "1.5.0",
            "_view_count": null,
            "_view_module_version": "1.2.0",
            "_model_module": "@jupyter-widgets/controls"
          }
        },
        "fabcf4803141433caa1fb18e6657f964": {
          "model_module": "@jupyter-widgets/base",
          "model_name": "LayoutModel",
          "model_module_version": "1.2.0",
          "state": {
            "_view_name": "LayoutView",
            "grid_template_rows": null,
            "right": null,
            "justify_content": null,
            "_view_module": "@jupyter-widgets/base",
            "overflow": null,
            "_model_module_version": "1.2.0",
            "_view_count": null,
            "flex_flow": null,
            "width": null,
            "min_width": null,
            "border": null,
            "align_items": null,
            "bottom": null,
            "_model_module": "@jupyter-widgets/base",
            "top": null,
            "grid_column": null,
            "overflow_y": null,
            "overflow_x": null,
            "grid_auto_flow": null,
            "grid_area": null,
            "grid_template_columns": null,
            "flex": null,
            "_model_name": "LayoutModel",
            "justify_items": null,
            "grid_row": null,
            "max_height": null,
            "align_content": null,
            "visibility": null,
            "align_self": null,
            "height": null,
            "min_height": null,
            "padding": null,
            "grid_auto_rows": null,
            "grid_gap": null,
            "max_width": null,
            "order": null,
            "_view_module_version": "1.2.0",
            "grid_template_areas": null,
            "object_position": null,
            "object_fit": null,
            "grid_auto_columns": null,
            "margin": null,
            "display": null,
            "left": null
          }
        },
        "2d3b3649c8784a66bc96dcc3761f7402": {
          "model_module": "@jupyter-widgets/controls",
          "model_name": "HBoxModel",
          "model_module_version": "1.5.0",
          "state": {
            "_view_name": "HBoxView",
            "_dom_classes": [],
            "_model_name": "HBoxModel",
            "_view_module": "@jupyter-widgets/controls",
            "_model_module_version": "1.5.0",
            "_view_count": null,
            "_view_module_version": "1.5.0",
            "box_style": "",
            "layout": "IPY_MODEL_3e67a2128d294f7c9468aef1c8d68def",
            "_model_module": "@jupyter-widgets/controls",
            "children": [
              "IPY_MODEL_2700f22f1ba44f8cbd4d7c0ca97740f4",
              "IPY_MODEL_3137cbc39c22410292d0c06b5e7be858",
              "IPY_MODEL_93e4072b5b4e4c8aa84bf25435c50c54"
            ]
          }
        },
        "3e67a2128d294f7c9468aef1c8d68def": {
          "model_module": "@jupyter-widgets/base",
          "model_name": "LayoutModel",
          "model_module_version": "1.2.0",
          "state": {
            "_view_name": "LayoutView",
            "grid_template_rows": null,
            "right": null,
            "justify_content": null,
            "_view_module": "@jupyter-widgets/base",
            "overflow": null,
            "_model_module_version": "1.2.0",
            "_view_count": null,
            "flex_flow": null,
            "width": null,
            "min_width": null,
            "border": null,
            "align_items": null,
            "bottom": null,
            "_model_module": "@jupyter-widgets/base",
            "top": null,
            "grid_column": null,
            "overflow_y": null,
            "overflow_x": null,
            "grid_auto_flow": null,
            "grid_area": null,
            "grid_template_columns": null,
            "flex": null,
            "_model_name": "LayoutModel",
            "justify_items": null,
            "grid_row": null,
            "max_height": null,
            "align_content": null,
            "visibility": null,
            "align_self": null,
            "height": null,
            "min_height": null,
            "padding": null,
            "grid_auto_rows": null,
            "grid_gap": null,
            "max_width": null,
            "order": null,
            "_view_module_version": "1.2.0",
            "grid_template_areas": null,
            "object_position": null,
            "object_fit": null,
            "grid_auto_columns": null,
            "margin": null,
            "display": null,
            "left": null
          }
        },
        "2700f22f1ba44f8cbd4d7c0ca97740f4": {
          "model_module": "@jupyter-widgets/controls",
          "model_name": "HTMLModel",
          "model_module_version": "1.5.0",
          "state": {
            "_view_name": "HTMLView",
            "style": "IPY_MODEL_b5fda833982547a7a3b69a0e1dd5b899",
            "_dom_classes": [],
            "description": "",
            "_model_name": "HTMLModel",
            "placeholder": "​",
            "_view_module": "@jupyter-widgets/controls",
            "_model_module_version": "1.5.0",
            "value": "Downloading: 100%",
            "_view_count": null,
            "_view_module_version": "1.5.0",
            "description_tooltip": null,
            "_model_module": "@jupyter-widgets/controls",
            "layout": "IPY_MODEL_01f072288cee4458b4904e05d2cf0ace"
          }
        },
        "3137cbc39c22410292d0c06b5e7be858": {
          "model_module": "@jupyter-widgets/controls",
          "model_name": "FloatProgressModel",
          "model_module_version": "1.5.0",
          "state": {
            "_view_name": "ProgressView",
            "style": "IPY_MODEL_f30c1b345e2d4d7181a4ad2a915aed19",
            "_dom_classes": [],
            "description": "",
            "_model_name": "FloatProgressModel",
            "bar_style": "success",
            "max": 1142,
            "_view_module": "@jupyter-widgets/controls",
            "_model_module_version": "1.5.0",
            "value": 1142,
            "_view_count": null,
            "_view_module_version": "1.5.0",
            "orientation": "horizontal",
            "min": 0,
            "description_tooltip": null,
            "_model_module": "@jupyter-widgets/controls",
            "layout": "IPY_MODEL_39052c52cbcf4be1b989af90287af8ac"
          }
        },
        "93e4072b5b4e4c8aa84bf25435c50c54": {
          "model_module": "@jupyter-widgets/controls",
          "model_name": "HTMLModel",
          "model_module_version": "1.5.0",
          "state": {
            "_view_name": "HTMLView",
            "style": "IPY_MODEL_d549a51091754a64996d9df99650cc81",
            "_dom_classes": [],
            "description": "",
            "_model_name": "HTMLModel",
            "placeholder": "​",
            "_view_module": "@jupyter-widgets/controls",
            "_model_module_version": "1.5.0",
            "value": " 1.14k/1.14k [00:00&lt;00:00, 23.1kB/s]",
            "_view_count": null,
            "_view_module_version": "1.5.0",
            "description_tooltip": null,
            "_model_module": "@jupyter-widgets/controls",
            "layout": "IPY_MODEL_fe310de1c36f45ff8f0d3fac64cd3a4b"
          }
        },
        "b5fda833982547a7a3b69a0e1dd5b899": {
          "model_module": "@jupyter-widgets/controls",
          "model_name": "DescriptionStyleModel",
          "model_module_version": "1.5.0",
          "state": {
            "_view_name": "StyleView",
            "_model_name": "DescriptionStyleModel",
            "description_width": "",
            "_view_module": "@jupyter-widgets/base",
            "_model_module_version": "1.5.0",
            "_view_count": null,
            "_view_module_version": "1.2.0",
            "_model_module": "@jupyter-widgets/controls"
          }
        },
        "01f072288cee4458b4904e05d2cf0ace": {
          "model_module": "@jupyter-widgets/base",
          "model_name": "LayoutModel",
          "model_module_version": "1.2.0",
          "state": {
            "_view_name": "LayoutView",
            "grid_template_rows": null,
            "right": null,
            "justify_content": null,
            "_view_module": "@jupyter-widgets/base",
            "overflow": null,
            "_model_module_version": "1.2.0",
            "_view_count": null,
            "flex_flow": null,
            "width": null,
            "min_width": null,
            "border": null,
            "align_items": null,
            "bottom": null,
            "_model_module": "@jupyter-widgets/base",
            "top": null,
            "grid_column": null,
            "overflow_y": null,
            "overflow_x": null,
            "grid_auto_flow": null,
            "grid_area": null,
            "grid_template_columns": null,
            "flex": null,
            "_model_name": "LayoutModel",
            "justify_items": null,
            "grid_row": null,
            "max_height": null,
            "align_content": null,
            "visibility": null,
            "align_self": null,
            "height": null,
            "min_height": null,
            "padding": null,
            "grid_auto_rows": null,
            "grid_gap": null,
            "max_width": null,
            "order": null,
            "_view_module_version": "1.2.0",
            "grid_template_areas": null,
            "object_position": null,
            "object_fit": null,
            "grid_auto_columns": null,
            "margin": null,
            "display": null,
            "left": null
          }
        },
        "f30c1b345e2d4d7181a4ad2a915aed19": {
          "model_module": "@jupyter-widgets/controls",
          "model_name": "ProgressStyleModel",
          "model_module_version": "1.5.0",
          "state": {
            "_view_name": "StyleView",
            "_model_name": "ProgressStyleModel",
            "description_width": "",
            "_view_module": "@jupyter-widgets/base",
            "_model_module_version": "1.5.0",
            "_view_count": null,
            "_view_module_version": "1.2.0",
            "bar_color": null,
            "_model_module": "@jupyter-widgets/controls"
          }
        },
        "39052c52cbcf4be1b989af90287af8ac": {
          "model_module": "@jupyter-widgets/base",
          "model_name": "LayoutModel",
          "model_module_version": "1.2.0",
          "state": {
            "_view_name": "LayoutView",
            "grid_template_rows": null,
            "right": null,
            "justify_content": null,
            "_view_module": "@jupyter-widgets/base",
            "overflow": null,
            "_model_module_version": "1.2.0",
            "_view_count": null,
            "flex_flow": null,
            "width": null,
            "min_width": null,
            "border": null,
            "align_items": null,
            "bottom": null,
            "_model_module": "@jupyter-widgets/base",
            "top": null,
            "grid_column": null,
            "overflow_y": null,
            "overflow_x": null,
            "grid_auto_flow": null,
            "grid_area": null,
            "grid_template_columns": null,
            "flex": null,
            "_model_name": "LayoutModel",
            "justify_items": null,
            "grid_row": null,
            "max_height": null,
            "align_content": null,
            "visibility": null,
            "align_self": null,
            "height": null,
            "min_height": null,
            "padding": null,
            "grid_auto_rows": null,
            "grid_gap": null,
            "max_width": null,
            "order": null,
            "_view_module_version": "1.2.0",
            "grid_template_areas": null,
            "object_position": null,
            "object_fit": null,
            "grid_auto_columns": null,
            "margin": null,
            "display": null,
            "left": null
          }
        },
        "d549a51091754a64996d9df99650cc81": {
          "model_module": "@jupyter-widgets/controls",
          "model_name": "DescriptionStyleModel",
          "model_module_version": "1.5.0",
          "state": {
            "_view_name": "StyleView",
            "_model_name": "DescriptionStyleModel",
            "description_width": "",
            "_view_module": "@jupyter-widgets/base",
            "_model_module_version": "1.5.0",
            "_view_count": null,
            "_view_module_version": "1.2.0",
            "_model_module": "@jupyter-widgets/controls"
          }
        },
        "fe310de1c36f45ff8f0d3fac64cd3a4b": {
          "model_module": "@jupyter-widgets/base",
          "model_name": "LayoutModel",
          "model_module_version": "1.2.0",
          "state": {
            "_view_name": "LayoutView",
            "grid_template_rows": null,
            "right": null,
            "justify_content": null,
            "_view_module": "@jupyter-widgets/base",
            "overflow": null,
            "_model_module_version": "1.2.0",
            "_view_count": null,
            "flex_flow": null,
            "width": null,
            "min_width": null,
            "border": null,
            "align_items": null,
            "bottom": null,
            "_model_module": "@jupyter-widgets/base",
            "top": null,
            "grid_column": null,
            "overflow_y": null,
            "overflow_x": null,
            "grid_auto_flow": null,
            "grid_area": null,
            "grid_template_columns": null,
            "flex": null,
            "_model_name": "LayoutModel",
            "justify_items": null,
            "grid_row": null,
            "max_height": null,
            "align_content": null,
            "visibility": null,
            "align_self": null,
            "height": null,
            "min_height": null,
            "padding": null,
            "grid_auto_rows": null,
            "grid_gap": null,
            "max_width": null,
            "order": null,
            "_view_module_version": "1.2.0",
            "grid_template_areas": null,
            "object_position": null,
            "object_fit": null,
            "grid_auto_columns": null,
            "margin": null,
            "display": null,
            "left": null
          }
        },
        "960063f9ceb64d60b119e082368cbc25": {
          "model_module": "@jupyter-widgets/controls",
          "model_name": "HBoxModel",
          "model_module_version": "1.5.0",
          "state": {
            "_view_name": "HBoxView",
            "_dom_classes": [],
            "_model_name": "HBoxModel",
            "_view_module": "@jupyter-widgets/controls",
            "_model_module_version": "1.5.0",
            "_view_count": null,
            "_view_module_version": "1.5.0",
            "box_style": "",
            "layout": "IPY_MODEL_1b8a98fe94d748999ac1d054e17cdeab",
            "_model_module": "@jupyter-widgets/controls",
            "children": [
              "IPY_MODEL_f4f40736b51140f696a540a80a0e8be1",
              "IPY_MODEL_b7f75aa62dbf453b95807a014ab6d4b4",
              "IPY_MODEL_48ec2d7fc38941a7a28f720329735cda"
            ]
          }
        },
        "1b8a98fe94d748999ac1d054e17cdeab": {
          "model_module": "@jupyter-widgets/base",
          "model_name": "LayoutModel",
          "model_module_version": "1.2.0",
          "state": {
            "_view_name": "LayoutView",
            "grid_template_rows": null,
            "right": null,
            "justify_content": null,
            "_view_module": "@jupyter-widgets/base",
            "overflow": null,
            "_model_module_version": "1.2.0",
            "_view_count": null,
            "flex_flow": null,
            "width": null,
            "min_width": null,
            "border": null,
            "align_items": null,
            "bottom": null,
            "_model_module": "@jupyter-widgets/base",
            "top": null,
            "grid_column": null,
            "overflow_y": null,
            "overflow_x": null,
            "grid_auto_flow": null,
            "grid_area": null,
            "grid_template_columns": null,
            "flex": null,
            "_model_name": "LayoutModel",
            "justify_items": null,
            "grid_row": null,
            "max_height": null,
            "align_content": null,
            "visibility": null,
            "align_self": null,
            "height": null,
            "min_height": null,
            "padding": null,
            "grid_auto_rows": null,
            "grid_gap": null,
            "max_width": null,
            "order": null,
            "_view_module_version": "1.2.0",
            "grid_template_areas": null,
            "object_position": null,
            "object_fit": null,
            "grid_auto_columns": null,
            "margin": null,
            "display": null,
            "left": null
          }
        },
        "f4f40736b51140f696a540a80a0e8be1": {
          "model_module": "@jupyter-widgets/controls",
          "model_name": "HTMLModel",
          "model_module_version": "1.5.0",
          "state": {
            "_view_name": "HTMLView",
            "style": "IPY_MODEL_c077611d8a0b4e67b6a1eb04011c3911",
            "_dom_classes": [],
            "description": "",
            "_model_name": "HTMLModel",
            "placeholder": "​",
            "_view_module": "@jupyter-widgets/controls",
            "_model_module_version": "1.5.0",
            "value": "Downloading: 100%",
            "_view_count": null,
            "_view_module_version": "1.5.0",
            "description_tooltip": null,
            "_model_module": "@jupyter-widgets/controls",
            "layout": "IPY_MODEL_2752fb1cb8294f70b7dbf2db9a2ffe86"
          }
        },
        "b7f75aa62dbf453b95807a014ab6d4b4": {
          "model_module": "@jupyter-widgets/controls",
          "model_name": "FloatProgressModel",
          "model_module_version": "1.5.0",
          "state": {
            "_view_name": "ProgressView",
            "style": "IPY_MODEL_19d8fbab2a2c4553aec389d2ae45ea8c",
            "_dom_classes": [],
            "description": "",
            "_model_name": "FloatProgressModel",
            "bar_style": "success",
            "max": 2275437102,
            "_view_module": "@jupyter-widgets/controls",
            "_model_module_version": "1.5.0",
            "value": 2275437102,
            "_view_count": null,
            "_view_module_version": "1.5.0",
            "orientation": "horizontal",
            "min": 0,
            "description_tooltip": null,
            "_model_module": "@jupyter-widgets/controls",
            "layout": "IPY_MODEL_8b32b204c50c40fead695ee02495fe76"
          }
        },
        "48ec2d7fc38941a7a28f720329735cda": {
          "model_module": "@jupyter-widgets/controls",
          "model_name": "HTMLModel",
          "model_module_version": "1.5.0",
          "state": {
            "_view_name": "HTMLView",
            "style": "IPY_MODEL_43bfa97a4c31461e8a1fdb9d3fc984f3",
            "_dom_classes": [],
            "description": "",
            "_model_name": "HTMLModel",
            "placeholder": "​",
            "_view_module": "@jupyter-widgets/controls",
            "_model_module_version": "1.5.0",
            "value": " 2.28G/2.28G [01:09&lt;00:00, 34.6MB/s]",
            "_view_count": null,
            "_view_module_version": "1.5.0",
            "description_tooltip": null,
            "_model_module": "@jupyter-widgets/controls",
            "layout": "IPY_MODEL_35a636ed817b421f95af3783cedd2417"
          }
        },
        "c077611d8a0b4e67b6a1eb04011c3911": {
          "model_module": "@jupyter-widgets/controls",
          "model_name": "DescriptionStyleModel",
          "model_module_version": "1.5.0",
          "state": {
            "_view_name": "StyleView",
            "_model_name": "DescriptionStyleModel",
            "description_width": "",
            "_view_module": "@jupyter-widgets/base",
            "_model_module_version": "1.5.0",
            "_view_count": null,
            "_view_module_version": "1.2.0",
            "_model_module": "@jupyter-widgets/controls"
          }
        },
        "2752fb1cb8294f70b7dbf2db9a2ffe86": {
          "model_module": "@jupyter-widgets/base",
          "model_name": "LayoutModel",
          "model_module_version": "1.2.0",
          "state": {
            "_view_name": "LayoutView",
            "grid_template_rows": null,
            "right": null,
            "justify_content": null,
            "_view_module": "@jupyter-widgets/base",
            "overflow": null,
            "_model_module_version": "1.2.0",
            "_view_count": null,
            "flex_flow": null,
            "width": null,
            "min_width": null,
            "border": null,
            "align_items": null,
            "bottom": null,
            "_model_module": "@jupyter-widgets/base",
            "top": null,
            "grid_column": null,
            "overflow_y": null,
            "overflow_x": null,
            "grid_auto_flow": null,
            "grid_area": null,
            "grid_template_columns": null,
            "flex": null,
            "_model_name": "LayoutModel",
            "justify_items": null,
            "grid_row": null,
            "max_height": null,
            "align_content": null,
            "visibility": null,
            "align_self": null,
            "height": null,
            "min_height": null,
            "padding": null,
            "grid_auto_rows": null,
            "grid_gap": null,
            "max_width": null,
            "order": null,
            "_view_module_version": "1.2.0",
            "grid_template_areas": null,
            "object_position": null,
            "object_fit": null,
            "grid_auto_columns": null,
            "margin": null,
            "display": null,
            "left": null
          }
        },
        "19d8fbab2a2c4553aec389d2ae45ea8c": {
          "model_module": "@jupyter-widgets/controls",
          "model_name": "ProgressStyleModel",
          "model_module_version": "1.5.0",
          "state": {
            "_view_name": "StyleView",
            "_model_name": "ProgressStyleModel",
            "description_width": "",
            "_view_module": "@jupyter-widgets/base",
            "_model_module_version": "1.5.0",
            "_view_count": null,
            "_view_module_version": "1.2.0",
            "bar_color": null,
            "_model_module": "@jupyter-widgets/controls"
          }
        },
        "8b32b204c50c40fead695ee02495fe76": {
          "model_module": "@jupyter-widgets/base",
          "model_name": "LayoutModel",
          "model_module_version": "1.2.0",
          "state": {
            "_view_name": "LayoutView",
            "grid_template_rows": null,
            "right": null,
            "justify_content": null,
            "_view_module": "@jupyter-widgets/base",
            "overflow": null,
            "_model_module_version": "1.2.0",
            "_view_count": null,
            "flex_flow": null,
            "width": null,
            "min_width": null,
            "border": null,
            "align_items": null,
            "bottom": null,
            "_model_module": "@jupyter-widgets/base",
            "top": null,
            "grid_column": null,
            "overflow_y": null,
            "overflow_x": null,
            "grid_auto_flow": null,
            "grid_area": null,
            "grid_template_columns": null,
            "flex": null,
            "_model_name": "LayoutModel",
            "justify_items": null,
            "grid_row": null,
            "max_height": null,
            "align_content": null,
            "visibility": null,
            "align_self": null,
            "height": null,
            "min_height": null,
            "padding": null,
            "grid_auto_rows": null,
            "grid_gap": null,
            "max_width": null,
            "order": null,
            "_view_module_version": "1.2.0",
            "grid_template_areas": null,
            "object_position": null,
            "object_fit": null,
            "grid_auto_columns": null,
            "margin": null,
            "display": null,
            "left": null
          }
        },
        "43bfa97a4c31461e8a1fdb9d3fc984f3": {
          "model_module": "@jupyter-widgets/controls",
          "model_name": "DescriptionStyleModel",
          "model_module_version": "1.5.0",
          "state": {
            "_view_name": "StyleView",
            "_model_name": "DescriptionStyleModel",
            "description_width": "",
            "_view_module": "@jupyter-widgets/base",
            "_model_module_version": "1.5.0",
            "_view_count": null,
            "_view_module_version": "1.2.0",
            "_model_module": "@jupyter-widgets/controls"
          }
        },
        "35a636ed817b421f95af3783cedd2417": {
          "model_module": "@jupyter-widgets/base",
          "model_name": "LayoutModel",
          "model_module_version": "1.2.0",
          "state": {
            "_view_name": "LayoutView",
            "grid_template_rows": null,
            "right": null,
            "justify_content": null,
            "_view_module": "@jupyter-widgets/base",
            "overflow": null,
            "_model_module_version": "1.2.0",
            "_view_count": null,
            "flex_flow": null,
            "width": null,
            "min_width": null,
            "border": null,
            "align_items": null,
            "bottom": null,
            "_model_module": "@jupyter-widgets/base",
            "top": null,
            "grid_column": null,
            "overflow_y": null,
            "overflow_x": null,
            "grid_auto_flow": null,
            "grid_area": null,
            "grid_template_columns": null,
            "flex": null,
            "_model_name": "LayoutModel",
            "justify_items": null,
            "grid_row": null,
            "max_height": null,
            "align_content": null,
            "visibility": null,
            "align_self": null,
            "height": null,
            "min_height": null,
            "padding": null,
            "grid_auto_rows": null,
            "grid_gap": null,
            "max_width": null,
            "order": null,
            "_view_module_version": "1.2.0",
            "grid_template_areas": null,
            "object_position": null,
            "object_fit": null,
            "grid_auto_columns": null,
            "margin": null,
            "display": null,
            "left": null
          }
        }
      }
    }
  },
  "cells": [
    {
      "cell_type": "markdown",
      "metadata": {
        "id": "view-in-github",
        "colab_type": "text"
      },
      "source": [
        "<a href=\"https://colab.research.google.com/github/milkatemelkova/Teaxt-extraction-summarization-paraphrasing-and-generation-with-Python/blob/main/Untitled0.ipynb\" target=\"_parent\"><img src=\"https://colab.research.google.com/assets/colab-badge.svg\" alt=\"Open In Colab\"/></a>"
      ]
    },
    {
      "cell_type": "code",
      "metadata": {
        "colab": {
          "base_uri": "https://localhost:8080/"
        },
        "id": "QG_nK05T_A3N",
        "outputId": "ea436df3-0ddd-4f84-9349-732124b46e01"
      },
      "source": [
        "#scrape and summ news articles\n",
        "!pip install nltk\n",
        "!pip install newspaper3k"
      ],
      "execution_count": 1,
      "outputs": [
        {
          "output_type": "stream",
          "text": [
            "Requirement already satisfied: nltk in /usr/local/lib/python3.7/dist-packages (3.2.5)\n",
            "Requirement already satisfied: six in /usr/local/lib/python3.7/dist-packages (from nltk) (1.15.0)\n",
            "Collecting newspaper3k\n",
            "  Downloading newspaper3k-0.2.8-py3-none-any.whl (211 kB)\n",
            "\u001b[K     |████████████████████████████████| 211 kB 5.2 MB/s \n",
            "\u001b[?25hRequirement already satisfied: nltk>=3.2.1 in /usr/local/lib/python3.7/dist-packages (from newspaper3k) (3.2.5)\n",
            "Requirement already satisfied: python-dateutil>=2.5.3 in /usr/local/lib/python3.7/dist-packages (from newspaper3k) (2.8.2)\n",
            "Collecting cssselect>=0.9.2\n",
            "  Downloading cssselect-1.1.0-py2.py3-none-any.whl (16 kB)\n",
            "Requirement already satisfied: beautifulsoup4>=4.4.1 in /usr/local/lib/python3.7/dist-packages (from newspaper3k) (4.6.3)\n",
            "Requirement already satisfied: Pillow>=3.3.0 in /usr/local/lib/python3.7/dist-packages (from newspaper3k) (7.1.2)\n",
            "Requirement already satisfied: PyYAML>=3.11 in /usr/local/lib/python3.7/dist-packages (from newspaper3k) (3.13)\n",
            "Collecting tldextract>=2.0.1\n",
            "  Downloading tldextract-3.1.0-py2.py3-none-any.whl (87 kB)\n",
            "\u001b[K     |████████████████████████████████| 87 kB 7.3 MB/s \n",
            "\u001b[?25hCollecting feedfinder2>=0.0.4\n",
            "  Downloading feedfinder2-0.0.4.tar.gz (3.3 kB)\n",
            "Collecting jieba3k>=0.35.1\n",
            "  Downloading jieba3k-0.35.1.zip (7.4 MB)\n",
            "\u001b[K     |████████████████████████████████| 7.4 MB 45.5 MB/s \n",
            "\u001b[?25hRequirement already satisfied: requests>=2.10.0 in /usr/local/lib/python3.7/dist-packages (from newspaper3k) (2.23.0)\n",
            "Collecting tinysegmenter==0.3\n",
            "  Downloading tinysegmenter-0.3.tar.gz (16 kB)\n",
            "Requirement already satisfied: lxml>=3.6.0 in /usr/local/lib/python3.7/dist-packages (from newspaper3k) (4.2.6)\n",
            "Collecting feedparser>=5.2.1\n",
            "  Downloading feedparser-6.0.8-py3-none-any.whl (81 kB)\n",
            "\u001b[K     |████████████████████████████████| 81 kB 10.2 MB/s \n",
            "\u001b[?25hRequirement already satisfied: six in /usr/local/lib/python3.7/dist-packages (from feedfinder2>=0.0.4->newspaper3k) (1.15.0)\n",
            "Collecting sgmllib3k\n",
            "  Downloading sgmllib3k-1.0.0.tar.gz (5.8 kB)\n",
            "Requirement already satisfied: idna<3,>=2.5 in /usr/local/lib/python3.7/dist-packages (from requests>=2.10.0->newspaper3k) (2.10)\n",
            "Requirement already satisfied: urllib3!=1.25.0,!=1.25.1,<1.26,>=1.21.1 in /usr/local/lib/python3.7/dist-packages (from requests>=2.10.0->newspaper3k) (1.24.3)\n",
            "Requirement already satisfied: certifi>=2017.4.17 in /usr/local/lib/python3.7/dist-packages (from requests>=2.10.0->newspaper3k) (2021.5.30)\n",
            "Requirement already satisfied: chardet<4,>=3.0.2 in /usr/local/lib/python3.7/dist-packages (from requests>=2.10.0->newspaper3k) (3.0.4)\n",
            "Collecting requests-file>=1.4\n",
            "  Downloading requests_file-1.5.1-py2.py3-none-any.whl (3.7 kB)\n",
            "Requirement already satisfied: filelock>=3.0.8 in /usr/local/lib/python3.7/dist-packages (from tldextract>=2.0.1->newspaper3k) (3.0.12)\n",
            "Building wheels for collected packages: tinysegmenter, feedfinder2, jieba3k, sgmllib3k\n",
            "  Building wheel for tinysegmenter (setup.py) ... \u001b[?25l\u001b[?25hdone\n",
            "  Created wheel for tinysegmenter: filename=tinysegmenter-0.3-py3-none-any.whl size=13552 sha256=53446b9500caf7774c7e6f85d989c7270d976d6cd5ef5fc10c0016e447a8b279\n",
            "  Stored in directory: /root/.cache/pip/wheels/df/67/41/faca10fa501ca010be41b49d40360c2959e1c4f09bcbfa37fa\n",
            "  Building wheel for feedfinder2 (setup.py) ... \u001b[?25l\u001b[?25hdone\n",
            "  Created wheel for feedfinder2: filename=feedfinder2-0.0.4-py3-none-any.whl size=3356 sha256=e2eb22912ca97cf6893b1946372dcd674f824388b5f853c3077ae5e7366557c4\n",
            "  Stored in directory: /root/.cache/pip/wheels/7f/d4/8f/6e2ca54744c9d7292d88ddb8d42876bcdab5e6d84a21c10346\n",
            "  Building wheel for jieba3k (setup.py) ... \u001b[?25l\u001b[?25hdone\n",
            "  Created wheel for jieba3k: filename=jieba3k-0.35.1-py3-none-any.whl size=7398405 sha256=b07b4311b0fefccfd9d7e83e20f44a2ab310196624be0651118b7b5c405c8da6\n",
            "  Stored in directory: /root/.cache/pip/wheels/4c/91/46/3c208287b726df325a5979574324878b679116e4baae1af3c3\n",
            "  Building wheel for sgmllib3k (setup.py) ... \u001b[?25l\u001b[?25hdone\n",
            "  Created wheel for sgmllib3k: filename=sgmllib3k-1.0.0-py3-none-any.whl size=6065 sha256=b15e65460b98d4128267e613f7225077700a84f2c67e79856726051bc4d72cba\n",
            "  Stored in directory: /root/.cache/pip/wheels/73/ad/a4/0dff4a6ef231fc0dfa12ffbac2a36cebfdddfe059f50e019aa\n",
            "Successfully built tinysegmenter feedfinder2 jieba3k sgmllib3k\n",
            "Installing collected packages: sgmllib3k, requests-file, tldextract, tinysegmenter, jieba3k, feedparser, feedfinder2, cssselect, newspaper3k\n",
            "Successfully installed cssselect-1.1.0 feedfinder2-0.0.4 feedparser-6.0.8 jieba3k-0.35.1 newspaper3k-0.2.8 requests-file-1.5.1 sgmllib3k-1.0.0 tinysegmenter-0.3 tldextract-3.1.0\n"
          ],
          "name": "stdout"
        }
      ]
    },
    {
      "cell_type": "code",
      "metadata": {
        "id": "oWSu14Dd_Oud"
      },
      "source": [
        "#Import the libraries\n",
        "import nltk\n",
        "from newspaper import Article"
      ],
      "execution_count": 2,
      "outputs": []
    },
    {
      "cell_type": "code",
      "metadata": {
        "id": "jCu7HZJ3_WF7"
      },
      "source": [
        "#Get the article\n",
        "url = 'https://edition.cnn.com/2021/08/24/politics/biden-afghanistan-weakens-the-west-globally-intl-cmd/index.html'\n",
        "article = Article(url)"
      ],
      "execution_count": 3,
      "outputs": []
    },
    {
      "cell_type": "code",
      "metadata": {
        "colab": {
          "base_uri": "https://localhost:8080/"
        },
        "id": "c_7YuoH1_a1T",
        "outputId": "a4e83cb2-cfb6-4692-f54a-c5ad5b521eec"
      },
      "source": [
        "#Do NLP\n",
        "article.download()\n",
        "article.parse()\n",
        "nltk.download('punkt')\n",
        "article.nlp()"
      ],
      "execution_count": 4,
      "outputs": [
        {
          "output_type": "stream",
          "text": [
            "[nltk_data] Downloading package punkt to /root/nltk_data...\n",
            "[nltk_data]   Unzipping tokenizers/punkt.zip.\n"
          ],
          "name": "stdout"
        }
      ]
    },
    {
      "cell_type": "code",
      "metadata": {
        "colab": {
          "base_uri": "https://localhost:8080/"
        },
        "id": "f6kS4232_i94",
        "outputId": "4328b8b5-794c-4de2-91e3-1b8798db11b6"
      },
      "source": [
        "#Get info about the article\n",
        "article.authors"
      ],
      "execution_count": 5,
      "outputs": [
        {
          "output_type": "execute_result",
          "data": {
            "text/plain": [
              "['Analysis Luke Mcgee']"
            ]
          },
          "metadata": {},
          "execution_count": 5
        }
      ]
    },
    {
      "cell_type": "code",
      "metadata": {
        "colab": {
          "base_uri": "https://localhost:8080/",
          "height": 35
        },
        "id": "e7UR6gqW_oeA",
        "outputId": "b0d49e07-3045-4b5f-9bcc-06c0577a4c86"
      },
      "source": [
        "article.top_image"
      ],
      "execution_count": 6,
      "outputs": [
        {
          "output_type": "execute_result",
          "data": {
            "application/vnd.google.colaboratory.intrinsic+json": {
              "type": "string"
            },
            "text/plain": [
              "'https://cdn.cnn.com/cnnnext/dam/assets/210824100846-04-biden-afghanistan-april-2021-super-tease.jpg'"
            ]
          },
          "metadata": {},
          "execution_count": 6
        }
      ]
    },
    {
      "cell_type": "code",
      "metadata": {
        "colab": {
          "base_uri": "https://localhost:8080/"
        },
        "id": "vypntxPi_tSV",
        "outputId": "17763b5f-e913-4d6f-ee60-b9ae4bef6e08"
      },
      "source": [
        "article.publish_date"
      ],
      "execution_count": 7,
      "outputs": [
        {
          "output_type": "execute_result",
          "data": {
            "text/plain": [
              "datetime.datetime(2021, 8, 24, 0, 0)"
            ]
          },
          "metadata": {},
          "execution_count": 7
        }
      ]
    },
    {
      "cell_type": "code",
      "metadata": {
        "colab": {
          "base_uri": "https://localhost:8080/"
        },
        "id": "mRefqDla_wJc",
        "outputId": "c77dce4f-2131-4db2-e6a0-846d2ad4571f"
      },
      "source": [
        "#Get the article's full text\n",
        "print(article.text)"
      ],
      "execution_count": 8,
      "outputs": [
        {
          "output_type": "stream",
          "text": [
            "London (CNN) The sudden fall of Kabul and the Taliban's near-total takeover of Afghanistan has left many of America's long-standing partners wondering what will become of the values-based, US-led international order.\n",
            "\n",
            "While President Joe Biden's withdrawal of troops by August 31 is inevitable, the speed at which the situation descended into chaos, and the White House's lack of contrition and flexibility has left allies spinning.\n",
            "\n",
            "On Tuesday, Biden's fellow G7 leaders, led by British Prime Minister Boris Johnson, pressed the US President to extend that deadline in order to get foreign citizens, Afghan people who have aided allied troops and other vulnerable groups out of the country. But Biden stood firm.\n",
            "\n",
            "As America's allies -- most notably in Europe -- see it the United States is walking away, washing its hands of a crisis it played a large part in creating, and with scant regard for the problems that doing so creates elsewhere.\n",
            "\n",
            "Refugees from Afghanistan wait to board a bus after arriving and being processed at Dulles International Airport in Dulles, Virginia on August 23, 2021. Around 16,000 people were evacuated over the past 24 hours from Afghanistan through the Kabul airport, the Pentagon said on August 23, 2021, as the US speeds toward completing its airlift by an August 31 deadline.\n",
            "\n",
            "The reason this is so hard for allies to swallow is because so much of the world's foreign policy, especially in Europe, is based on the assumption that the US's commitments to the values-based Western order, through the UN and NATO, are iron-clad.\n",
            "\n",
            "Europe's reliance on the US in terms of international affairs is nothing new. Throughout the Trump presidency, European diplomats and officials repeatedly spoke with CNN about the need for something they call strategic autonomy. However, a lack of any coherent policy has slowed these efforts -- and in the context of Afghanistan, that means when the US withdraws, everyone withdraws.\n",
            "\n",
            "NATO's treaty opens with the pledge that: \"The Parties to this Treaty reaffirm their faith in the purposes and principles of the Charter of the United Nations and their desire to live in peace with all peoples and all governments.\"\n",
            "\n",
            "The UN charter it references reads: \"The purposes of the United Nations are ... To maintain international peace and security, and to that end ... to take effective collective measures for the prevention and removal of threats to the peace.\"\n",
            "\n",
            "Critics are struggling to see just how Biden's recent behavior squares with these commitments -- and worry that it confirms America's retreat from the world stage. Biden has argued however that his country's anti-terror mission in Afghanistan was achieved a decade ago -- when American troops killed Al Qaeda leader Osama bin Laden -- and that the US is still a leader elsewhere on the global stage, including in humanitarian efforts.\n",
            "\n",
            "Speaking on Tuesday about his meeting with the G7, Biden told press: \"We talked about our mutual obligation to support refugees and evacuees currently fleeing Afghanistan. The United States will be a leader in these efforts and we'll look to the international community and to our partners to do the same.\"\n",
            "\n",
            "\"All of us agree that we're going to stand shoulder to shoulder with our closest partners to meet the current challenges we face in Afghanistan, just as we have for the past 20 years,\" he also said.\n",
            "\n",
            "But many have doubts about what that means in practice.\n",
            "\n",
            "\"To me, this shows is the end of one geopolitical era, which was about creating a liberal international order, and the beginning of a new one, which is about the competition between China and America,\" said Mark Leonard, director of the European Council on Foreign Relations, ealier on Tuesday.\n",
            "\n",
            "A Taliban fighter stands guard at a checkpoint in the Wazir Akbar Khan neighborhood in the city of Kabul, Afghanistan, Sunday, Aug. 22, 2021.\n",
            "\n",
            "America's exit from a key strategic area has also created opportunities for its international enemies to increase their influence in Afghanistan on very different terms to those required from the West.\n",
            "\n",
            "Historically, American -- and by extension Western -- support for countries like Afghanistan was given on a quid pro quo basis.\n",
            "\n",
            "\"What made support from the West so attractive to countries around the world was the underpinned commitment to helping countries build liberal, open democracies and a society grounded in the rule of law,\" says David Lidington, chair of the Royal United Services Institute and a former deputy Prime Minister of the UK.\n",
            "\n",
            "\"One of the consequences of the defeat in Afghanistan is the lack of confidence in the West, which can only be a good thing for China and Russia who can offer their support with zero regard for rule of law or human rights,\" he adds.\n",
            "\n",
            "China's new relationship with the Taliban was already in the works back in July, before the militant group took control of the country. China's foreign minister, Wang Yi, met a Taliban delegation in northern China, where the two sides reached an agreement: China would help with Afghanistan's reconstruction, and in exchange the Taliban would ensure regional stability.\n",
            "\n",
            "As CNN has reported, the fall of a stable Afghan government and subsequent triumph of the Taliban is not necessarily a good thing for China and, in some respects, presents more of a headache that anything else.\n",
            "\n",
            "However, the early stage at which China met with Taliban leaders confirmed the perception, at least in the eyes of America's European allies, that China is ready to capitalize on the void left by the US -- if unlikely to fill it militarily. Based on current reports from Afghanistan, how the Taliban achieves stability now is unlikely to meet the Western human rights standards -- but might not pose an obstacle to Beijing's support, given China's own poor record on human rights.\n",
            "\n",
            "Russia has also made overtures to the Taliban in recent days, with its foreign ministry saying it would not evacuate its embassy as Kabul fell. Though the Taliban is -- at least on paper -- officially proscribed by Moscow, the Kremlin does have working contacts with the Taliban, who, it claimed, have \"started to restore public order\" since seizing power.\n",
            "\n",
            "This is the same Russia that supported stability in Syria by providing its brutal president, Bashar al-Assad, with firepower and aiding in airstrikes against rebel groups. Russia has denied this, saying it was exclusively targeting ISIS.\n",
            "\n",
            "It is also the same Russia in which opponents of the Kremlin are poisoned and imprisoned.\n",
            "\n",
            "TOPSHOT - Afghans gather on a roadside near the military part of the airport in Kabul on August 20, 2021, hoping to flee from the country after the Taliban's military takeover of Afghanistan.\n",
            "\n",
            "China and Russia have in recent years acted in tandem, using international institutions to poke the West in the eye.\n",
            "\n",
            "According to Velina Tchakarova, director of the Austrian Institute for European and Security Policy, China and Russia are already \"operating within the existing global order with the clear goal of disrupting it, dismantling its multilateral structures\" to further competing views of multilateralism that contradict the West's.\n",
            "\n",
            "\"Coordinated efforts by China and Russia in the UN Security Council (e.g., Iran and now likely Afghanistan) and other international organizations will continue to grow as both states seek to improve their international image as norm-setters in a rapidly changing rules-based world order,\" she adds.\n",
            "\n",
            "The withdrawal of troops from Afghanistan, and the subsequent race to evacuate vulnerable people, fits into this narrative.\n",
            "\n",
            "Rightly or wrongly, the US's commitment to withdraw by such a hard deadline will be seen as the catalyst for the Taliban taking control of the country. How it handles the consequences of that will likely color how both its allies and its enemies view the US's legacy in Afghanistan.\n",
            "\n",
            "Leslie Vinjamuri, director of the US and the Americas Programme at Chatham House, says people will \"judge the US in Afghanistan based on how it manages the unfolding humanitarian situation, whether it takes large numbers of immigrants, what kind of humanitarian assistance it commits to.\"\n",
            "\n",
            "She adds that if \"Afghanistan descends into a failed state or a grave humanitarian crisis unfolds, many people will blame the US, rightly or wrongly. And undoubtedly this will feed into the narrative of US hypocrisy when it comes to human rights.\"\n",
            "\n",
            "By extension, that blame and those accusations of hypocrisy, will also land at the feet of the Western allies who, once the US decided it was time to leave, had no choice but to go too. And that provides one hell of an opportunity for those who wish to take the West's place on the world stage -- without the moral obligations.\n",
            "\n",
            "Taliban fighters stand guard in front of the Hamid Karzai International Airport, in Kabul, Afghanistan, Monday, Aug. 16, 2021.\n",
            "\n",
            "The fight for Afghanistan may be over, but some believe there is still work for the West to do.\n",
            "\n",
            "Tom Tugendhat, a British lawmaker who served in Afghanistan and chairs the Foreign Affairs Select Committee, thinks that the Western alliance still has a role to play in Afghanistan -- one which will have global implications.\n",
            "\n",
            "\"We can invest in the UN and start and use its programs to support the Afghan people,\" Tugendhat said. \"We can bring in regional partners in India, Pakistan, Uzbekistan and others to work together. The Taliban isn't universally popular, but it is inspiring others. Islamist groups in Africa and in Asia are drawing inspiration and we need to work with partners around the world. We need to start acting internationally.\"\n",
            "\n",
            "The reputational cost to the West of what's happening in Afghanistan won't be fully known for some time. What is clear for now is that if America's allies want the option to serve their own interests globally, they need to accept that as things stand, they are inadequate.\n",
            "\n",
            "That means countries that have for so long relied on the stability of the US commitment to promoting Western values will need to rethink their foreign policy.\n",
            "\n",
            "If Mark Leonard is correct, and this really is the end of a geopolitical era, those countries will need to refocus their priorities on a new, scary basis: That the US simply isn't that interested anymore.\n"
          ],
          "name": "stdout"
        }
      ]
    },
    {
      "cell_type": "code",
      "metadata": {
        "colab": {
          "base_uri": "https://localhost:8080/"
        },
        "id": "OPyiQwUdWitE",
        "outputId": "a3a8f9a2-a39e-49b8-a347-23ed4fdcc80f"
      },
      "source": [
        "text = \"\"\"London (CNN) The sudden fall of Kabul and the Taliban's near-total takeover of Afghanistan has left many of America's long-standing partners wondering what will become of the values-based, US-led international order.\n",
        "\n",
        "While President Joe Biden's withdrawal of troops by August 31 is inevitable, the speed at which the situation descended into chaos, and the White House's lack of contrition and flexibility has left allies spinning.\n",
        "\n",
        "On Tuesday, Biden's fellow G7 leaders, led by British Prime Minister Boris Johnson, pressed the US President to extend that deadline in order to get foreign citizens, Afghan people who have aided allied troops and other vulnerable groups out of the country. But Biden stood firm.\n",
        "\n",
        "As America's allies -- most notably in Europe -- see it the United States is walking away, washing its hands of a crisis it played a large part in creating, and with scant regard for the problems that doing so creates elsewhere.\n",
        "\n",
        "Refugees from Afghanistan wait to board a bus after arriving and being processed at Dulles International Airport in Dulles, Virginia on August 23, 2021. Around 16,000 people were evacuated over the past 24 hours from Afghanistan through the Kabul airport, the Pentagon said on August 23, 2021, as the US speeds toward completing its airlift by an August 31 deadline.\n",
        "\n",
        "The reason this is so hard for allies to swallow is because so much of the world's foreign policy, especially in Europe, is based on the assumption that the US's commitments to the values-based Western order, through the UN and NATO, are iron-clad.\n",
        "\n",
        "Europe's reliance on the US in terms of international affairs is nothing new. Throughout the Trump presidency, European diplomats and officials repeatedly spoke with CNN about the need for something they call strategic autonomy. However, a lack of any coherent policy has slowed these efforts -- and in the context of Afghanistan, that means when the US withdraws, everyone withdraws.\n",
        "\n",
        "NATO's treaty opens with the pledge that: \"The Parties to this Treaty reaffirm their faith in the purposes and principles of the Charter of the United Nations and their desire to live in peace with all peoples and all governments.\"\n",
        "\n",
        "The UN charter it references reads: \"The purposes of the United Nations are ... To maintain international peace and security, and to that end ... to take effective collective measures for the prevention and removal of threats to the peace.\"\n",
        "\n",
        "Critics are struggling to see just how Biden's recent behavior squares with these commitments -- and worry that it confirms America's retreat from the world stage. Biden has argued however that his country's anti-terror mission in Afghanistan was achieved a decade ago -- when American troops killed Al Qaeda leader Osama bin Laden -- and that the US is still a leader elsewhere on the global stage, including in humanitarian efforts.\n",
        "\n",
        "Speaking on Tuesday about his meeting with the G7, Biden told press: \"We talked about our mutual obligation to support refugees and evacuees currently fleeing Afghanistan. The United States will be a leader in these efforts and we'll look to the international community and to our partners to do the same.\"\n",
        "\n",
        "\"All of us agree that we're going to stand shoulder to shoulder with our closest partners to meet the current challenges we face in Afghanistan, just as we have for the past 20 years,\" he also said.\n",
        "\n",
        "But many have doubts about what that means in practice.\n",
        "\n",
        "\"To me, this shows is the end of one geopolitical era, which was about creating a liberal international order, and the beginning of a new one, which is about the competition between China and America,\" said Mark Leonard, director of the European Council on Foreign Relations, ealier on Tuesday.\n",
        "\n",
        "A Taliban fighter stands guard at a checkpoint in the Wazir Akbar Khan neighborhood in the city of Kabul, Afghanistan, Sunday, Aug. 22, 2021.\n",
        "\n",
        "America's exit from a key strategic area has also created opportunities for its international enemies to increase their influence in Afghanistan on very different terms to those required from the West.\n",
        "\n",
        "Historically, American -- and by extension Western -- support for countries like Afghanistan was given on a quid pro quo basis.\n",
        "\n",
        "\"What made support from the West so attractive to countries around the world was the underpinned commitment to helping countries build liberal, open democracies and a society grounded in the rule of law,\" says David Lidington, chair of the Royal United Services Institute and a former deputy Prime Minister of the UK.\n",
        "\n",
        "\"One of the consequences of the defeat in Afghanistan is the lack of confidence in the West, which can only be a good thing for China and Russia who can offer their support with zero regard for rule of law or human rights,\" he adds.\n",
        "\n",
        "China's new relationship with the Taliban was already in the works back in July, before the militant group took control of the country. China's foreign minister, Wang Yi, met a Taliban delegation in northern China, where the two sides reached an agreement: China would help with Afghanistan's reconstruction, and in exchange the Taliban would ensure regional stability.\n",
        "\n",
        "As CNN has reported, the fall of a stable Afghan government and subsequent triumph of the Taliban is not necessarily a good thing for China and, in some respects, presents more of a headache that anything else.\n",
        "\n",
        "However, the early stage at which China met with Taliban leaders confirmed the perception, at least in the eyes of America's European allies, that China is ready to capitalize on the void left by the US -- if unlikely to fill it militarily. Based on current reports from Afghanistan, how the Taliban achieves stability now is unlikely to meet the Western human rights standards -- but might not pose an obstacle to Beijing's support, given China's own poor record on human rights.\n",
        "\n",
        "Russia has also made overtures to the Taliban in recent days, with its foreign ministry saying it would not evacuate its embassy as Kabul fell. Though the Taliban is -- at least on paper -- officially proscribed by Moscow, the Kremlin does have working contacts with the Taliban, who, it claimed, have \"started to restore public order\" since seizing power.\n",
        "\n",
        "This is the same Russia that supported stability in Syria by providing its brutal president, Bashar al-Assad, with firepower and aiding in airstrikes against rebel groups. Russia has denied this, saying it was exclusively targeting ISIS.\n",
        "\n",
        "It is also the same Russia in which opponents of the Kremlin are poisoned and imprisoned.\n",
        "\n",
        "TOPSHOT - Afghans gather on a roadside near the military part of the airport in Kabul on August 20, 2021, hoping to flee from the country after the Taliban's military takeover of Afghanistan.\n",
        "\n",
        "China and Russia have in recent years acted in tandem, using international institutions to poke the West in the eye.\n",
        "\n",
        "According to Velina Tchakarova, director of the Austrian Institute for European and Security Policy, China and Russia are already \"operating within the existing global order with the clear goal of disrupting it, dismantling its multilateral structures\" to further competing views of multilateralism that contradict the West's.\n",
        "\n",
        "\"Coordinated efforts by China and Russia in the UN Security Council (e.g., Iran and now likely Afghanistan) and other international organizations will continue to grow as both states seek to improve their international image as norm-setters in a rapidly changing rules-based world order,\" she adds.\n",
        "\n",
        "The withdrawal of troops from Afghanistan, and the subsequent race to evacuate vulnerable people, fits into this narrative.\n",
        "\n",
        "Rightly or wrongly, the US's commitment to withdraw by such a hard deadline will be seen as the catalyst for the Taliban taking control of the country. How it handles the consequences of that will likely color how both its allies and its enemies view the US's legacy in Afghanistan.\n",
        "\n",
        "Leslie Vinjamuri, director of the US and the Americas Programme at Chatham House, says people will \"judge the US in Afghanistan based on how it manages the unfolding humanitarian situation, whether it takes large numbers of immigrants, what kind of humanitarian assistance it commits to.\"\n",
        "\n",
        "She adds that if \"Afghanistan descends into a failed state or a grave humanitarian crisis unfolds, many people will blame the US, rightly or wrongly. And undoubtedly this will feed into the narrative of US hypocrisy when it comes to human rights.\"\n",
        "\n",
        "By extension, that blame and those accusations of hypocrisy, will also land at the feet of the Western allies who, once the US decided it was time to leave, had no choice but to go too. And that provides one hell of an opportunity for those who wish to take the West's place on the world stage -- without the moral obligations.\n",
        "\n",
        "Taliban fighters stand guard in front of the Hamid Karzai International Airport, in Kabul, Afghanistan, Monday, Aug. 16, 2021.\n",
        "\n",
        "The fight for Afghanistan may be over, but some believe there is still work for the West to do.\n",
        "\n",
        "Tom Tugendhat, a British lawmaker who served in Afghanistan and chairs the Foreign Affairs Select Committee, thinks that the Western alliance still has a role to play in Afghanistan -- one which will have global implications.\n",
        "\n",
        "\"We can invest in the UN and start and use its programs to support the Afghan people,\" Tugendhat said. \"We can bring in regional partners in India, Pakistan, Uzbekistan and others to work together. The Taliban isn't universally popular, but it is inspiring others. Islamist groups in Africa and in Asia are drawing inspiration and we need to work with partners around the world. We need to start acting internationally.\"\n",
        "\n",
        "The reputational cost to the West of what's happening in Afghanistan won't be fully known for some time. What is clear for now is that if America's allies want the option to serve their own interests globally, they need to accept that as things stand, they are inadequate.\n",
        "\n",
        "That means countries that have for so long relied on the stability of the US commitment to promoting Western values will need to rethink their foreign policy.\n",
        "\n",
        "If Mark Leonard is correct, and this really is the end of a geopolitical era, those countries will need to refocus their priorities on a new, scary basis: That the US simply isn't that interested anymore.\"\"\"\n",
        "print(text)\n"
      ],
      "execution_count": 24,
      "outputs": [
        {
          "output_type": "stream",
          "text": [
            "London (CNN) The sudden fall of Kabul and the Taliban's near-total takeover of Afghanistan has left many of America's long-standing partners wondering what will become of the values-based, US-led international order.\n",
            "\n",
            "While President Joe Biden's withdrawal of troops by August 31 is inevitable, the speed at which the situation descended into chaos, and the White House's lack of contrition and flexibility has left allies spinning.\n",
            "\n",
            "On Tuesday, Biden's fellow G7 leaders, led by British Prime Minister Boris Johnson, pressed the US President to extend that deadline in order to get foreign citizens, Afghan people who have aided allied troops and other vulnerable groups out of the country. But Biden stood firm.\n",
            "\n",
            "As America's allies -- most notably in Europe -- see it the United States is walking away, washing its hands of a crisis it played a large part in creating, and with scant regard for the problems that doing so creates elsewhere.\n",
            "\n",
            "Refugees from Afghanistan wait to board a bus after arriving and being processed at Dulles International Airport in Dulles, Virginia on August 23, 2021. Around 16,000 people were evacuated over the past 24 hours from Afghanistan through the Kabul airport, the Pentagon said on August 23, 2021, as the US speeds toward completing its airlift by an August 31 deadline.\n",
            "\n",
            "The reason this is so hard for allies to swallow is because so much of the world's foreign policy, especially in Europe, is based on the assumption that the US's commitments to the values-based Western order, through the UN and NATO, are iron-clad.\n",
            "\n",
            "Europe's reliance on the US in terms of international affairs is nothing new. Throughout the Trump presidency, European diplomats and officials repeatedly spoke with CNN about the need for something they call strategic autonomy. However, a lack of any coherent policy has slowed these efforts -- and in the context of Afghanistan, that means when the US withdraws, everyone withdraws.\n",
            "\n",
            "NATO's treaty opens with the pledge that: \"The Parties to this Treaty reaffirm their faith in the purposes and principles of the Charter of the United Nations and their desire to live in peace with all peoples and all governments.\"\n",
            "\n",
            "The UN charter it references reads: \"The purposes of the United Nations are ... To maintain international peace and security, and to that end ... to take effective collective measures for the prevention and removal of threats to the peace.\"\n",
            "\n",
            "Critics are struggling to see just how Biden's recent behavior squares with these commitments -- and worry that it confirms America's retreat from the world stage. Biden has argued however that his country's anti-terror mission in Afghanistan was achieved a decade ago -- when American troops killed Al Qaeda leader Osama bin Laden -- and that the US is still a leader elsewhere on the global stage, including in humanitarian efforts.\n",
            "\n",
            "Speaking on Tuesday about his meeting with the G7, Biden told press: \"We talked about our mutual obligation to support refugees and evacuees currently fleeing Afghanistan. The United States will be a leader in these efforts and we'll look to the international community and to our partners to do the same.\"\n",
            "\n",
            "\"All of us agree that we're going to stand shoulder to shoulder with our closest partners to meet the current challenges we face in Afghanistan, just as we have for the past 20 years,\" he also said.\n",
            "\n",
            "But many have doubts about what that means in practice.\n",
            "\n",
            "\"To me, this shows is the end of one geopolitical era, which was about creating a liberal international order, and the beginning of a new one, which is about the competition between China and America,\" said Mark Leonard, director of the European Council on Foreign Relations, ealier on Tuesday.\n",
            "\n",
            "A Taliban fighter stands guard at a checkpoint in the Wazir Akbar Khan neighborhood in the city of Kabul, Afghanistan, Sunday, Aug. 22, 2021.\n",
            "\n",
            "America's exit from a key strategic area has also created opportunities for its international enemies to increase their influence in Afghanistan on very different terms to those required from the West.\n",
            "\n",
            "Historically, American -- and by extension Western -- support for countries like Afghanistan was given on a quid pro quo basis.\n",
            "\n",
            "\"What made support from the West so attractive to countries around the world was the underpinned commitment to helping countries build liberal, open democracies and a society grounded in the rule of law,\" says David Lidington, chair of the Royal United Services Institute and a former deputy Prime Minister of the UK.\n",
            "\n",
            "\"One of the consequences of the defeat in Afghanistan is the lack of confidence in the West, which can only be a good thing for China and Russia who can offer their support with zero regard for rule of law or human rights,\" he adds.\n",
            "\n",
            "China's new relationship with the Taliban was already in the works back in July, before the militant group took control of the country. China's foreign minister, Wang Yi, met a Taliban delegation in northern China, where the two sides reached an agreement: China would help with Afghanistan's reconstruction, and in exchange the Taliban would ensure regional stability.\n",
            "\n",
            "As CNN has reported, the fall of a stable Afghan government and subsequent triumph of the Taliban is not necessarily a good thing for China and, in some respects, presents more of a headache that anything else.\n",
            "\n",
            "However, the early stage at which China met with Taliban leaders confirmed the perception, at least in the eyes of America's European allies, that China is ready to capitalize on the void left by the US -- if unlikely to fill it militarily. Based on current reports from Afghanistan, how the Taliban achieves stability now is unlikely to meet the Western human rights standards -- but might not pose an obstacle to Beijing's support, given China's own poor record on human rights.\n",
            "\n",
            "Russia has also made overtures to the Taliban in recent days, with its foreign ministry saying it would not evacuate its embassy as Kabul fell. Though the Taliban is -- at least on paper -- officially proscribed by Moscow, the Kremlin does have working contacts with the Taliban, who, it claimed, have \"started to restore public order\" since seizing power.\n",
            "\n",
            "This is the same Russia that supported stability in Syria by providing its brutal president, Bashar al-Assad, with firepower and aiding in airstrikes against rebel groups. Russia has denied this, saying it was exclusively targeting ISIS.\n",
            "\n",
            "It is also the same Russia in which opponents of the Kremlin are poisoned and imprisoned.\n",
            "\n",
            "TOPSHOT - Afghans gather on a roadside near the military part of the airport in Kabul on August 20, 2021, hoping to flee from the country after the Taliban's military takeover of Afghanistan.\n",
            "\n",
            "China and Russia have in recent years acted in tandem, using international institutions to poke the West in the eye.\n",
            "\n",
            "According to Velina Tchakarova, director of the Austrian Institute for European and Security Policy, China and Russia are already \"operating within the existing global order with the clear goal of disrupting it, dismantling its multilateral structures\" to further competing views of multilateralism that contradict the West's.\n",
            "\n",
            "\"Coordinated efforts by China and Russia in the UN Security Council (e.g., Iran and now likely Afghanistan) and other international organizations will continue to grow as both states seek to improve their international image as norm-setters in a rapidly changing rules-based world order,\" she adds.\n",
            "\n",
            "The withdrawal of troops from Afghanistan, and the subsequent race to evacuate vulnerable people, fits into this narrative.\n",
            "\n",
            "Rightly or wrongly, the US's commitment to withdraw by such a hard deadline will be seen as the catalyst for the Taliban taking control of the country. How it handles the consequences of that will likely color how both its allies and its enemies view the US's legacy in Afghanistan.\n",
            "\n",
            "Leslie Vinjamuri, director of the US and the Americas Programme at Chatham House, says people will \"judge the US in Afghanistan based on how it manages the unfolding humanitarian situation, whether it takes large numbers of immigrants, what kind of humanitarian assistance it commits to.\"\n",
            "\n",
            "She adds that if \"Afghanistan descends into a failed state or a grave humanitarian crisis unfolds, many people will blame the US, rightly or wrongly. And undoubtedly this will feed into the narrative of US hypocrisy when it comes to human rights.\"\n",
            "\n",
            "By extension, that blame and those accusations of hypocrisy, will also land at the feet of the Western allies who, once the US decided it was time to leave, had no choice but to go too. And that provides one hell of an opportunity for those who wish to take the West's place on the world stage -- without the moral obligations.\n",
            "\n",
            "Taliban fighters stand guard in front of the Hamid Karzai International Airport, in Kabul, Afghanistan, Monday, Aug. 16, 2021.\n",
            "\n",
            "The fight for Afghanistan may be over, but some believe there is still work for the West to do.\n",
            "\n",
            "Tom Tugendhat, a British lawmaker who served in Afghanistan and chairs the Foreign Affairs Select Committee, thinks that the Western alliance still has a role to play in Afghanistan -- one which will have global implications.\n",
            "\n",
            "\"We can invest in the UN and start and use its programs to support the Afghan people,\" Tugendhat said. \"We can bring in regional partners in India, Pakistan, Uzbekistan and others to work together. The Taliban isn't universally popular, but it is inspiring others. Islamist groups in Africa and in Asia are drawing inspiration and we need to work with partners around the world. We need to start acting internationally.\"\n",
            "\n",
            "The reputational cost to the West of what's happening in Afghanistan won't be fully known for some time. What is clear for now is that if America's allies want the option to serve their own interests globally, they need to accept that as things stand, they are inadequate.\n",
            "\n",
            "That means countries that have for so long relied on the stability of the US commitment to promoting Western values will need to rethink their foreign policy.\n",
            "\n",
            "If Mark Leonard is correct, and this really is the end of a geopolitical era, those countries will need to refocus their priorities on a new, scary basis: That the US simply isn't that interested anymore.\n"
          ],
          "name": "stdout"
        }
      ]
    },
    {
      "cell_type": "code",
      "metadata": {
        "colab": {
          "base_uri": "https://localhost:8080/"
        },
        "id": "Db0zVQ-U_00-",
        "outputId": "ccf04899-0aa1-4f1e-dd3f-1d10e2f72756"
      },
      "source": [
        "#get the summary\n",
        "print(article.summary)"
      ],
      "execution_count": 9,
      "outputs": [
        {
          "output_type": "stream",
          "text": [
            "London (CNN) The sudden fall of Kabul and the Taliban's near-total takeover of Afghanistan has left many of America's long-standing partners wondering what will become of the values-based, US-led international order.\n",
            "Historically, American -- and by extension Western -- support for countries like Afghanistan was given on a quid pro quo basis.\n",
            "China and Russia have in recent years acted in tandem, using international institutions to poke the West in the eye.\n",
            "How it handles the consequences of that will likely color how both its allies and its enemies view the US's legacy in Afghanistan.\n",
            "Taliban fighters stand guard in front of the Hamid Karzai International Airport, in Kabul, Afghanistan, Monday, Aug. 16, 2021.\n"
          ],
          "name": "stdout"
        }
      ]
    },
    {
      "cell_type": "code",
      "metadata": {
        "colab": {
          "base_uri": "https://localhost:8080/"
        },
        "id": "EWoFXsLlHQUD",
        "outputId": "b4618f6b-e32e-4972-e8e0-d2530084ac09"
      },
      "source": [
        "! pip install sentence-splitter\n"
      ],
      "execution_count": 10,
      "outputs": [
        {
          "output_type": "stream",
          "text": [
            "Collecting sentence-splitter\n",
            "  Downloading sentence_splitter-1.4-py2.py3-none-any.whl (44 kB)\n",
            "\u001b[?25l\r\u001b[K     |███████▎                        | 10 kB 22.2 MB/s eta 0:00:01\r\u001b[K     |██████████████▋                 | 20 kB 27.1 MB/s eta 0:00:01\r\u001b[K     |█████████████████████▉          | 30 kB 13.6 MB/s eta 0:00:01\r\u001b[K     |█████████████████████████████▏  | 40 kB 10.0 MB/s eta 0:00:01\r\u001b[K     |████████████████████████████████| 44 kB 1.7 MB/s \n",
            "\u001b[?25hRequirement already satisfied: regex>=2017.12.12 in /usr/local/lib/python3.7/dist-packages (from sentence-splitter) (2019.12.20)\n",
            "Installing collected packages: sentence-splitter\n",
            "Successfully installed sentence-splitter-1.4\n"
          ],
          "name": "stdout"
        }
      ]
    },
    {
      "cell_type": "code",
      "metadata": {
        "colab": {
          "base_uri": "https://localhost:8080/"
        },
        "id": "uIzGFRJyHTiG",
        "outputId": "649afa3c-68b6-4318-cce6-a29a3dd0f8be"
      },
      "source": [
        "! pip install transformers"
      ],
      "execution_count": 11,
      "outputs": [
        {
          "output_type": "stream",
          "text": [
            "Collecting transformers\n",
            "  Downloading transformers-4.9.2-py3-none-any.whl (2.6 MB)\n",
            "\u001b[K     |████████████████████████████████| 2.6 MB 5.3 MB/s \n",
            "\u001b[?25hRequirement already satisfied: requests in /usr/local/lib/python3.7/dist-packages (from transformers) (2.23.0)\n",
            "Requirement already satisfied: filelock in /usr/local/lib/python3.7/dist-packages (from transformers) (3.0.12)\n",
            "Requirement already satisfied: regex!=2019.12.17 in /usr/local/lib/python3.7/dist-packages (from transformers) (2019.12.20)\n",
            "Requirement already satisfied: packaging in /usr/local/lib/python3.7/dist-packages (from transformers) (21.0)\n",
            "Collecting huggingface-hub==0.0.12\n",
            "  Downloading huggingface_hub-0.0.12-py3-none-any.whl (37 kB)\n",
            "Collecting pyyaml>=5.1\n",
            "  Downloading PyYAML-5.4.1-cp37-cp37m-manylinux1_x86_64.whl (636 kB)\n",
            "\u001b[K     |████████████████████████████████| 636 kB 42.8 MB/s \n",
            "\u001b[?25hRequirement already satisfied: tqdm>=4.27 in /usr/local/lib/python3.7/dist-packages (from transformers) (4.62.0)\n",
            "Requirement already satisfied: importlib-metadata in /usr/local/lib/python3.7/dist-packages (from transformers) (4.6.4)\n",
            "Collecting tokenizers<0.11,>=0.10.1\n",
            "  Downloading tokenizers-0.10.3-cp37-cp37m-manylinux_2_5_x86_64.manylinux1_x86_64.manylinux_2_12_x86_64.manylinux2010_x86_64.whl (3.3 MB)\n",
            "\u001b[K     |████████████████████████████████| 3.3 MB 41.4 MB/s \n",
            "\u001b[?25hRequirement already satisfied: numpy>=1.17 in /usr/local/lib/python3.7/dist-packages (from transformers) (1.19.5)\n",
            "Collecting sacremoses\n",
            "  Downloading sacremoses-0.0.45-py3-none-any.whl (895 kB)\n",
            "\u001b[K     |████████████████████████████████| 895 kB 54.0 MB/s \n",
            "\u001b[?25hRequirement already satisfied: typing-extensions in /usr/local/lib/python3.7/dist-packages (from huggingface-hub==0.0.12->transformers) (3.7.4.3)\n",
            "Requirement already satisfied: pyparsing>=2.0.2 in /usr/local/lib/python3.7/dist-packages (from packaging->transformers) (2.4.7)\n",
            "Requirement already satisfied: zipp>=0.5 in /usr/local/lib/python3.7/dist-packages (from importlib-metadata->transformers) (3.5.0)\n",
            "Requirement already satisfied: urllib3!=1.25.0,!=1.25.1,<1.26,>=1.21.1 in /usr/local/lib/python3.7/dist-packages (from requests->transformers) (1.24.3)\n",
            "Requirement already satisfied: idna<3,>=2.5 in /usr/local/lib/python3.7/dist-packages (from requests->transformers) (2.10)\n",
            "Requirement already satisfied: certifi>=2017.4.17 in /usr/local/lib/python3.7/dist-packages (from requests->transformers) (2021.5.30)\n",
            "Requirement already satisfied: chardet<4,>=3.0.2 in /usr/local/lib/python3.7/dist-packages (from requests->transformers) (3.0.4)\n",
            "Requirement already satisfied: joblib in /usr/local/lib/python3.7/dist-packages (from sacremoses->transformers) (1.0.1)\n",
            "Requirement already satisfied: click in /usr/local/lib/python3.7/dist-packages (from sacremoses->transformers) (7.1.2)\n",
            "Requirement already satisfied: six in /usr/local/lib/python3.7/dist-packages (from sacremoses->transformers) (1.15.0)\n",
            "Installing collected packages: tokenizers, sacremoses, pyyaml, huggingface-hub, transformers\n",
            "  Attempting uninstall: pyyaml\n",
            "    Found existing installation: PyYAML 3.13\n",
            "    Uninstalling PyYAML-3.13:\n",
            "      Successfully uninstalled PyYAML-3.13\n",
            "Successfully installed huggingface-hub-0.0.12 pyyaml-5.4.1 sacremoses-0.0.45 tokenizers-0.10.3 transformers-4.9.2\n"
          ],
          "name": "stdout"
        }
      ]
    },
    {
      "cell_type": "code",
      "metadata": {
        "colab": {
          "base_uri": "https://localhost:8080/"
        },
        "id": "josVmR5wHdbL",
        "outputId": "0f0eb331-47c2-4641-c867-201365ebb2ce"
      },
      "source": [
        "! pip install SentencePiece"
      ],
      "execution_count": 12,
      "outputs": [
        {
          "output_type": "stream",
          "text": [
            "Collecting SentencePiece\n",
            "  Downloading sentencepiece-0.1.96-cp37-cp37m-manylinux_2_17_x86_64.manylinux2014_x86_64.whl (1.2 MB)\n",
            "\u001b[K     |████████████████████████████████| 1.2 MB 5.4 MB/s \n",
            "\u001b[?25hInstalling collected packages: SentencePiece\n",
            "Successfully installed SentencePiece-0.1.96\n"
          ],
          "name": "stdout"
        }
      ]
    },
    {
      "cell_type": "code",
      "metadata": {
        "colab": {
          "base_uri": "https://localhost:8080/",
          "height": 177,
          "referenced_widgets": [
            "bdb62593c1ad4f07b86cfeeb6c24b8a0",
            "ce918f09201a423296421e8a82377d38",
            "af2e5e88cdf144d98d83ae468ba4419e",
            "32a2f1b424ad41feb95de3b2c14ae72d",
            "150fdf4129244306840bf26caffc8508",
            "a6ed22346d144e018cea2108b5dbf382",
            "17a4a596ae884d8db911c5e284cc6bdc",
            "e37c66d00e9a4b2899090eea3e67fbb8",
            "3547263998a142178b10142e9107f17b",
            "eeecce1aee804dac954d159556e30c32",
            "bfa977e534014a44bb4d7e5ff3578807",
            "238671d52151499d93e889e9b65fef15",
            "08e97f563da64a59ac3db0b22471b42b",
            "90dc59b61cff4e17b1423fdd52623035",
            "1a7840a2a7ef4eb19f09e25fd74f6431",
            "1aee80f9001840c0a7179056880a7072",
            "ded7e7fd3139478aab8fb513fb5b5ef6",
            "482dbfc67c0c4f6f81d29ffca30bfa4a",
            "8fe93f95682e49cebecb330b2cdd4149",
            "e0a4f353351c423d80a9dcf30dd85a3c",
            "9f89c90b25df4452b85f3b8eb080a021",
            "2df7989dc34e4184a693d2710829cc0e",
            "c766d787576e47969e0bd103afee0d33",
            "8a602f41c66e49779c579a68b4959b1e",
            "32ab3433ee5f4815a9d83ef797d13993",
            "5eb73cc67a68405da029889ed928190d",
            "107b0e567fbd48e9b49cc705a3b52c6b",
            "3cc91245b6d842ca9cc3339f0d219c2e",
            "e1457a1d127b40ab8a518217c9632b75",
            "9aa0f534b6e34a7fa9c9c38ce7c32adc",
            "1753698d7d094a289f5833602be2eaee",
            "929ff2f4bee643bd85f14c3a0a06a599",
            "fabcf4803141433caa1fb18e6657f964",
            "2d3b3649c8784a66bc96dcc3761f7402",
            "3e67a2128d294f7c9468aef1c8d68def",
            "2700f22f1ba44f8cbd4d7c0ca97740f4",
            "3137cbc39c22410292d0c06b5e7be858",
            "93e4072b5b4e4c8aa84bf25435c50c54",
            "b5fda833982547a7a3b69a0e1dd5b899",
            "01f072288cee4458b4904e05d2cf0ace",
            "f30c1b345e2d4d7181a4ad2a915aed19",
            "39052c52cbcf4be1b989af90287af8ac",
            "d549a51091754a64996d9df99650cc81",
            "fe310de1c36f45ff8f0d3fac64cd3a4b",
            "960063f9ceb64d60b119e082368cbc25",
            "1b8a98fe94d748999ac1d054e17cdeab",
            "f4f40736b51140f696a540a80a0e8be1",
            "b7f75aa62dbf453b95807a014ab6d4b4",
            "48ec2d7fc38941a7a28f720329735cda",
            "c077611d8a0b4e67b6a1eb04011c3911",
            "2752fb1cb8294f70b7dbf2db9a2ffe86",
            "19d8fbab2a2c4553aec389d2ae45ea8c",
            "8b32b204c50c40fead695ee02495fe76",
            "43bfa97a4c31461e8a1fdb9d3fc984f3",
            "35a636ed817b421f95af3783cedd2417"
          ]
        },
        "id": "SgZ5JdRJHqPB",
        "outputId": "95f358fa-0dc2-4a64-ca63-ced82613d968"
      },
      "source": [
        "import torch\n",
        "from transformers import PegasusForConditionalGeneration, PegasusTokenizer\n",
        "\n",
        "model_name = 'tuner007/pegasus_paraphrase'\n",
        "torch_device = 'cuda' if torch.cuda.is_available() else 'cpu'\n",
        "tokenizer = PegasusTokenizer.from_pretrained(model_name)\n",
        "model = PegasusForConditionalGeneration.from_pretrained(model_name).to(torch_device)\n",
        "\n",
        "def get_response(input_text,num_return_sequences):\n",
        "  batch = tokenizer.prepare_seq2seq_batch([input_text],truncation=True,padding='longest',max_length=60, return_tensors=\"pt\").to(torch_device)\n",
        "  translated = model.generate(**batch,max_length=60,num_beams=10, num_return_sequences=num_return_sequences, temperature=1.5)\n",
        "  tgt_text = tokenizer.batch_decode(translated, skip_special_tokens=True)\n",
        "  return tgt_text"
      ],
      "execution_count": 13,
      "outputs": [
        {
          "output_type": "display_data",
          "data": {
            "application/vnd.jupyter.widget-view+json": {
              "model_id": "bdb62593c1ad4f07b86cfeeb6c24b8a0",
              "version_minor": 0,
              "version_major": 2
            },
            "text/plain": [
              "Downloading:   0%|          | 0.00/1.91M [00:00<?, ?B/s]"
            ]
          },
          "metadata": {}
        },
        {
          "output_type": "display_data",
          "data": {
            "application/vnd.jupyter.widget-view+json": {
              "model_id": "238671d52151499d93e889e9b65fef15",
              "version_minor": 0,
              "version_major": 2
            },
            "text/plain": [
              "Downloading:   0%|          | 0.00/65.0 [00:00<?, ?B/s]"
            ]
          },
          "metadata": {}
        },
        {
          "output_type": "display_data",
          "data": {
            "application/vnd.jupyter.widget-view+json": {
              "model_id": "c766d787576e47969e0bd103afee0d33",
              "version_minor": 0,
              "version_major": 2
            },
            "text/plain": [
              "Downloading:   0%|          | 0.00/86.0 [00:00<?, ?B/s]"
            ]
          },
          "metadata": {}
        },
        {
          "output_type": "display_data",
          "data": {
            "application/vnd.jupyter.widget-view+json": {
              "model_id": "2d3b3649c8784a66bc96dcc3761f7402",
              "version_minor": 0,
              "version_major": 2
            },
            "text/plain": [
              "Downloading:   0%|          | 0.00/1.14k [00:00<?, ?B/s]"
            ]
          },
          "metadata": {}
        },
        {
          "output_type": "display_data",
          "data": {
            "application/vnd.jupyter.widget-view+json": {
              "model_id": "960063f9ceb64d60b119e082368cbc25",
              "version_minor": 0,
              "version_major": 2
            },
            "text/plain": [
              "Downloading:   0%|          | 0.00/2.28G [00:00<?, ?B/s]"
            ]
          },
          "metadata": {}
        }
      ]
    },
    {
      "cell_type": "code",
      "metadata": {
        "colab": {
          "base_uri": "https://localhost:8080/"
        },
        "id": "CecZY4avIjA-",
        "outputId": "10ecaa52-9cd0-4291-fa9a-61443b62558b"
      },
      "source": [
        "\n",
        "# Paragraph of text\n",
        "summary = \"\"\"London (CNN) The sudden fall of Kabul and the Taliban's near-total takeover of Afghanistan has left many of America's long-standing partners wondering what will become of the values-based, US-led international order.\n",
        "Historically, American -- and by extension Western -- support for countries like Afghanistan was given on a quid pro quo basis.\n",
        "China and Russia have in recent years acted in tandem, using international institutions to poke the West in the eye.\n",
        "How it handles the consequences of that will likely color how both its allies and its enemies view the US's legacy in Afghanistan.\n",
        "Taliban fighters stand guard in front of the Hamid Karzai International Airport, in Kabul, Afghanistan, Monday, Aug. 16, 2021.\"\"\"\n",
        "print(summary)"
      ],
      "execution_count": 14,
      "outputs": [
        {
          "output_type": "stream",
          "text": [
            "London (CNN) The sudden fall of Kabul and the Taliban's near-total takeover of Afghanistan has left many of America's long-standing partners wondering what will become of the values-based, US-led international order.\n",
            "Historically, American -- and by extension Western -- support for countries like Afghanistan was given on a quid pro quo basis.\n",
            "China and Russia have in recent years acted in tandem, using international institutions to poke the West in the eye.\n",
            "How it handles the consequences of that will likely color how both its allies and its enemies view the US's legacy in Afghanistan.\n",
            "Taliban fighters stand guard in front of the Hamid Karzai International Airport, in Kabul, Afghanistan, Monday, Aug. 16, 2021.\n"
          ],
          "name": "stdout"
        }
      ]
    },
    {
      "cell_type": "code",
      "metadata": {
        "colab": {
          "base_uri": "https://localhost:8080/"
        },
        "id": "9OouWADfJHZT",
        "outputId": "d54f6c8e-aecc-4e30-a452-2d704db0c641"
      },
      "source": [
        "# Takes the input paragraph and splits it into a list of sentences\n",
        "from sentence_splitter import SentenceSplitter, split_text_into_sentences\n",
        "\n",
        "splitter = SentenceSplitter(language='en')\n",
        "\n",
        "sentence_list = splitter.split(summary)\n",
        "sentence_list"
      ],
      "execution_count": 15,
      "outputs": [
        {
          "output_type": "execute_result",
          "data": {
            "text/plain": [
              "[\"London (CNN) The sudden fall of Kabul and the Taliban's near-total takeover of Afghanistan has left many of America's long-standing partners wondering what will become of the values-based, US-led international order.\",\n",
              " 'Historically, American -- and by extension Western -- support for countries like Afghanistan was given on a quid pro quo basis.',\n",
              " 'China and Russia have in recent years acted in tandem, using international institutions to poke the West in the eye.',\n",
              " \"How it handles the consequences of that will likely color how both its allies and its enemies view the US's legacy in Afghanistan.\",\n",
              " 'Taliban fighters stand guard in front of the Hamid Karzai International Airport, in Kabul, Afghanistan, Monday, Aug. 16, 2021.']"
            ]
          },
          "metadata": {},
          "execution_count": 15
        }
      ]
    },
    {
      "cell_type": "code",
      "metadata": {
        "colab": {
          "base_uri": "https://localhost:8080/"
        },
        "id": "SRK4XQxUJWdN",
        "outputId": "3223f3be-166b-4ee3-efd0-60a5f25ceffa"
      },
      "source": [
        "# Do a for loop to iterate through the list of sentences and paraphrase each sentence in the iteration\n",
        "paraphrase = []\n",
        "\n",
        "for i in sentence_list:\n",
        "  a = get_response(i,1)\n",
        "  paraphrase.append(a)"
      ],
      "execution_count": 16,
      "outputs": [
        {
          "output_type": "stream",
          "text": [
            "/usr/local/lib/python3.7/dist-packages/transformers/tokenization_utils_base.py:3351: FutureWarning: \n",
            "`prepare_seq2seq_batch` is deprecated and will be removed in version 5 of HuggingFace Transformers. Use the regular\n",
            "`__call__` method to prepare your inputs and the tokenizer under the `as_target_tokenizer` context manager to prepare\n",
            "your targets.\n",
            "\n",
            "Here is a short example:\n",
            "\n",
            "model_inputs = tokenizer(src_texts, ...)\n",
            "with tokenizer.as_target_tokenizer():\n",
            "    labels = tokenizer(tgt_texts, ...)\n",
            "model_inputs[\"labels\"] = labels[\"input_ids\"]\n",
            "\n",
            "See the documentation of your specific tokenizer for more details on the specific arguments to the tokenizer of choice.\n",
            "For a more complete example, see the implementation of `prepare_seq2seq_batch`.\n",
            "\n",
            "  warnings.warn(formatted_warning, FutureWarning)\n",
            "/usr/local/lib/python3.7/dist-packages/torch/_tensor.py:575: UserWarning: floor_divide is deprecated, and will be removed in a future version of pytorch. It currently rounds toward 0 (like the 'trunc' function NOT 'floor'). This results in incorrect rounding for negative values.\n",
            "To keep the current behavior, use torch.div(a, b, rounding_mode='trunc'), or for actual floor division, use torch.div(a, b, rounding_mode='floor'). (Triggered internally at  /pytorch/aten/src/ATen/native/BinaryOps.cpp:467.)\n",
            "  return torch.floor_divide(self, other)\n"
          ],
          "name": "stderr"
        }
      ]
    },
    {
      "cell_type": "code",
      "metadata": {
        "colab": {
          "base_uri": "https://localhost:8080/"
        },
        "id": "Kv83igX_Jc6o",
        "outputId": "56583b4a-d818-4a6a-9395-ce0b153d3574"
      },
      "source": [
        "# This is the paraphrased text\n",
        "paraphrase"
      ],
      "execution_count": 17,
      "outputs": [
        {
          "output_type": "execute_result",
          "data": {
            "text/plain": [
              "[[\"The fall of Kabul and the Taliban's near-total takeover of Afghanistan has left many of America's long-standing partners wondering what will become of the values-based, US-led international order.\"],\n",
              " ['In the past, support for countries like Afghanistan was given on a quid pro quo basis.'],\n",
              " ['China and Russia have used international institutions to poke the West in the eye.'],\n",
              " [\"The US's legacy in Afghanistan will likely be affected by how it handles the consequences of that.\"],\n",
              " ['Taliban fighters stand guard in front of the Hamid Karzai International Airport.']]"
            ]
          },
          "metadata": {},
          "execution_count": 17
        }
      ]
    },
    {
      "cell_type": "code",
      "metadata": {
        "colab": {
          "base_uri": "https://localhost:8080/"
        },
        "id": "tg0mozslKuvx",
        "outputId": "6ea476ef-72b4-49f4-8816-46c7f1cce6f2"
      },
      "source": [
        "paraphrase2 = [' '.join(x) for x in paraphrase]\n",
        "paraphrase2"
      ],
      "execution_count": 18,
      "outputs": [
        {
          "output_type": "execute_result",
          "data": {
            "text/plain": [
              "[\"The fall of Kabul and the Taliban's near-total takeover of Afghanistan has left many of America's long-standing partners wondering what will become of the values-based, US-led international order.\",\n",
              " 'In the past, support for countries like Afghanistan was given on a quid pro quo basis.',\n",
              " 'China and Russia have used international institutions to poke the West in the eye.',\n",
              " \"The US's legacy in Afghanistan will likely be affected by how it handles the consequences of that.\",\n",
              " 'Taliban fighters stand guard in front of the Hamid Karzai International Airport.']"
            ]
          },
          "metadata": {},
          "execution_count": 18
        }
      ]
    },
    {
      "cell_type": "code",
      "metadata": {
        "colab": {
          "base_uri": "https://localhost:8080/",
          "height": 86
        },
        "id": "ceZEm-KeKwZw",
        "outputId": "d0acc0b9-8832-4ac8-8914-8fdbb987c969"
      },
      "source": [
        "# Combines the above list into a paragraph\n",
        "paraphrase3 = [' '.join(x for x in paraphrase2) ]\n",
        "paraphrased_text = str(paraphrase3).strip('[]').strip(\"'\")\n",
        "paraphrased_text"
      ],
      "execution_count": 19,
      "outputs": [
        {
          "output_type": "execute_result",
          "data": {
            "application/vnd.google.colaboratory.intrinsic+json": {
              "type": "string"
            },
            "text/plain": [
              "'\"The fall of Kabul and the Taliban\\'s near-total takeover of Afghanistan has left many of America\\'s long-standing partners wondering what will become of the values-based, US-led international order. In the past, support for countries like Afghanistan was given on a quid pro quo basis. China and Russia have used international institutions to poke the West in the eye. The US\\'s legacy in Afghanistan will likely be affected by how it handles the consequences of that. Taliban fighters stand guard in front of the Hamid Karzai International Airport.\"'"
            ]
          },
          "metadata": {},
          "execution_count": 19
        }
      ]
    },
    {
      "cell_type": "code",
      "metadata": {
        "colab": {
          "base_uri": "https://localhost:8080/"
        },
        "id": "c3OiQ0lMK4k9",
        "outputId": "3d6137bc-e73d-417c-a33d-716a18e297d5"
      },
      "source": [
        "# Comparison of the original (context variable) and the paraphrased version (paraphrase3 variable)\n",
        "\n",
        "print(summary)\n",
        "print(paraphrased_text)"
      ],
      "execution_count": 20,
      "outputs": [
        {
          "output_type": "stream",
          "text": [
            "London (CNN) The sudden fall of Kabul and the Taliban's near-total takeover of Afghanistan has left many of America's long-standing partners wondering what will become of the values-based, US-led international order.\n",
            "Historically, American -- and by extension Western -- support for countries like Afghanistan was given on a quid pro quo basis.\n",
            "China and Russia have in recent years acted in tandem, using international institutions to poke the West in the eye.\n",
            "How it handles the consequences of that will likely color how both its allies and its enemies view the US's legacy in Afghanistan.\n",
            "Taliban fighters stand guard in front of the Hamid Karzai International Airport, in Kabul, Afghanistan, Monday, Aug. 16, 2021.\n",
            "\"The fall of Kabul and the Taliban's near-total takeover of Afghanistan has left many of America's long-standing partners wondering what will become of the values-based, US-led international order. In the past, support for countries like Afghanistan was given on a quid pro quo basis. China and Russia have used international institutions to poke the West in the eye. The US's legacy in Afghanistan will likely be affected by how it handles the consequences of that. Taliban fighters stand guard in front of the Hamid Karzai International Airport.\"\n"
          ],
          "name": "stdout"
        }
      ]
    },
    {
      "cell_type": "code",
      "metadata": {
        "id": "mRp7tZIDUU0-"
      },
      "source": [
        "from gensim.summarization import keywords"
      ],
      "execution_count": 21,
      "outputs": []
    },
    {
      "cell_type": "code",
      "metadata": {
        "colab": {
          "base_uri": "https://localhost:8080/"
        },
        "id": "mo1W6_EGT8XT",
        "outputId": "fa6a878d-cc10-4941-fcf6-f7721a2bd3c9"
      },
      "source": [
        "print(keywords(text, words=30, lemmatize=False))"
      ],
      "execution_count": 25,
      "outputs": [
        {
          "output_type": "stream",
          "text": [
            "international\n",
            "afghanistan\n",
            "western\n",
            "china\n",
            "allies\n",
            "allied\n",
            "taliban\n",
            "stand\n",
            "stands\n",
            "groups\n",
            "group\n",
            "afghans\n",
            "humanitarian\n",
            "afghan people\n",
            "foreign\n",
            "president\n",
            "presidency\n",
            "based\n",
            "says\n",
            "saying\n",
            "biden\n",
            "global\n",
            "globally\n",
            "country\n",
            "countries\n",
            "peoples\n",
            "leaders\n",
            "leader\n",
            "stage\n",
            "policy\n",
            "currently\n",
            "current\n",
            "united\n",
            "strategic\n",
            "order\n",
            "partners\n",
            "officials\n",
            "officially\n",
            "minister\n",
            "european\n",
            "said\n"
          ],
          "name": "stdout"
        }
      ]
    }
  ]
}