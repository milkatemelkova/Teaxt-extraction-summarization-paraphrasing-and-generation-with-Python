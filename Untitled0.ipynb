{
  "nbformat": 4,
  "nbformat_minor": 0,
  "metadata": {
    "colab": {
      "name": "Untitled0.ipynb",
      "provenance": [],
      "authorship_tag": "ABX9TyOegVKBPF6fueUUIO/BHNi3",
      "include_colab_link": true
    },
    "kernelspec": {
      "name": "python3",
      "display_name": "Python 3"
    },
    "language_info": {
      "name": "python"
    }
  },
  "cells": [
    {
      "cell_type": "markdown",
      "metadata": {
        "id": "view-in-github",
        "colab_type": "text"
      },
      "source": [
        "<a href=\"https://colab.research.google.com/github/milkatemelkova/Teaxt-extraction-summarization-paraphrasing-and-generation-with-Python/blob/main/Untitled0.ipynb\" target=\"_parent\"><img src=\"https://colab.research.google.com/assets/colab-badge.svg\" alt=\"Open In Colab\"/></a>"
      ]
    },
    {
      "cell_type": "code",
      "metadata": {
        "colab": {
          "base_uri": "https://localhost:8080/"
        },
        "id": "QG_nK05T_A3N",
        "outputId": "70585b39-9889-42fd-c0fc-670d54753dc5"
      },
      "source": [
        "#scrape and summ news articles\n",
        "!pip install nltk\n",
        "!pip install newspaper3k"
      ],
      "execution_count": 1,
      "outputs": [
        {
          "output_type": "stream",
          "text": [
            "Requirement already satisfied: nltk in /usr/local/lib/python3.7/dist-packages (3.2.5)\n",
            "Requirement already satisfied: six in /usr/local/lib/python3.7/dist-packages (from nltk) (1.15.0)\n",
            "Collecting newspaper3k\n",
            "  Downloading newspaper3k-0.2.8-py3-none-any.whl (211 kB)\n",
            "\u001b[K     |████████████████████████████████| 211 kB 33.5 MB/s \n",
            "\u001b[?25hCollecting feedparser>=5.2.1\n",
            "  Downloading feedparser-6.0.8-py3-none-any.whl (81 kB)\n",
            "\u001b[K     |████████████████████████████████| 81 kB 8.8 MB/s \n",
            "\u001b[?25hRequirement already satisfied: requests>=2.10.0 in /usr/local/lib/python3.7/dist-packages (from newspaper3k) (2.23.0)\n",
            "Requirement already satisfied: PyYAML>=3.11 in /usr/local/lib/python3.7/dist-packages (from newspaper3k) (3.13)\n",
            "Requirement already satisfied: lxml>=3.6.0 in /usr/local/lib/python3.7/dist-packages (from newspaper3k) (4.2.6)\n",
            "Collecting jieba3k>=0.35.1\n",
            "  Downloading jieba3k-0.35.1.zip (7.4 MB)\n",
            "\u001b[K     |████████████████████████████████| 7.4 MB 48.5 MB/s \n",
            "\u001b[?25hCollecting tldextract>=2.0.1\n",
            "  Downloading tldextract-3.1.0-py2.py3-none-any.whl (87 kB)\n",
            "\u001b[K     |████████████████████████████████| 87 kB 6.3 MB/s \n",
            "\u001b[?25hCollecting tinysegmenter==0.3\n",
            "  Downloading tinysegmenter-0.3.tar.gz (16 kB)\n",
            "Requirement already satisfied: beautifulsoup4>=4.4.1 in /usr/local/lib/python3.7/dist-packages (from newspaper3k) (4.6.3)\n",
            "Requirement already satisfied: python-dateutil>=2.5.3 in /usr/local/lib/python3.7/dist-packages (from newspaper3k) (2.8.2)\n",
            "Requirement already satisfied: nltk>=3.2.1 in /usr/local/lib/python3.7/dist-packages (from newspaper3k) (3.2.5)\n",
            "Requirement already satisfied: Pillow>=3.3.0 in /usr/local/lib/python3.7/dist-packages (from newspaper3k) (7.1.2)\n",
            "Collecting cssselect>=0.9.2\n",
            "  Downloading cssselect-1.1.0-py2.py3-none-any.whl (16 kB)\n",
            "Collecting feedfinder2>=0.0.4\n",
            "  Downloading feedfinder2-0.0.4.tar.gz (3.3 kB)\n",
            "Requirement already satisfied: six in /usr/local/lib/python3.7/dist-packages (from feedfinder2>=0.0.4->newspaper3k) (1.15.0)\n",
            "Collecting sgmllib3k\n",
            "  Downloading sgmllib3k-1.0.0.tar.gz (5.8 kB)\n",
            "Requirement already satisfied: chardet<4,>=3.0.2 in /usr/local/lib/python3.7/dist-packages (from requests>=2.10.0->newspaper3k) (3.0.4)\n",
            "Requirement already satisfied: urllib3!=1.25.0,!=1.25.1,<1.26,>=1.21.1 in /usr/local/lib/python3.7/dist-packages (from requests>=2.10.0->newspaper3k) (1.24.3)\n",
            "Requirement already satisfied: certifi>=2017.4.17 in /usr/local/lib/python3.7/dist-packages (from requests>=2.10.0->newspaper3k) (2021.5.30)\n",
            "Requirement already satisfied: idna<3,>=2.5 in /usr/local/lib/python3.7/dist-packages (from requests>=2.10.0->newspaper3k) (2.10)\n",
            "Collecting requests-file>=1.4\n",
            "  Downloading requests_file-1.5.1-py2.py3-none-any.whl (3.7 kB)\n",
            "Requirement already satisfied: filelock>=3.0.8 in /usr/local/lib/python3.7/dist-packages (from tldextract>=2.0.1->newspaper3k) (3.0.12)\n",
            "Building wheels for collected packages: tinysegmenter, feedfinder2, jieba3k, sgmllib3k\n",
            "  Building wheel for tinysegmenter (setup.py) ... \u001b[?25l\u001b[?25hdone\n",
            "  Created wheel for tinysegmenter: filename=tinysegmenter-0.3-py3-none-any.whl size=13552 sha256=6a04be7815d72200d13cc07ec7d70c9612117e54fc51bd506d28595334738a20\n",
            "  Stored in directory: /root/.cache/pip/wheels/df/67/41/faca10fa501ca010be41b49d40360c2959e1c4f09bcbfa37fa\n",
            "  Building wheel for feedfinder2 (setup.py) ... \u001b[?25l\u001b[?25hdone\n",
            "  Created wheel for feedfinder2: filename=feedfinder2-0.0.4-py3-none-any.whl size=3356 sha256=eb6b657004201b1b8d1325bacf64346fcde2cc692cc289d30e5c03c678770549\n",
            "  Stored in directory: /root/.cache/pip/wheels/7f/d4/8f/6e2ca54744c9d7292d88ddb8d42876bcdab5e6d84a21c10346\n",
            "  Building wheel for jieba3k (setup.py) ... \u001b[?25l\u001b[?25hdone\n",
            "  Created wheel for jieba3k: filename=jieba3k-0.35.1-py3-none-any.whl size=7398405 sha256=e777f372b597c21dd1df5d63273f304a025456ed5ee6c67d2a86023c06907eb6\n",
            "  Stored in directory: /root/.cache/pip/wheels/4c/91/46/3c208287b726df325a5979574324878b679116e4baae1af3c3\n",
            "  Building wheel for sgmllib3k (setup.py) ... \u001b[?25l\u001b[?25hdone\n",
            "  Created wheel for sgmllib3k: filename=sgmllib3k-1.0.0-py3-none-any.whl size=6065 sha256=7be70f9fe1a4ac9202ad0d672d98455c2ebec63043b6e43216f2db47d3498b5e\n",
            "  Stored in directory: /root/.cache/pip/wheels/73/ad/a4/0dff4a6ef231fc0dfa12ffbac2a36cebfdddfe059f50e019aa\n",
            "Successfully built tinysegmenter feedfinder2 jieba3k sgmllib3k\n",
            "Installing collected packages: sgmllib3k, requests-file, tldextract, tinysegmenter, jieba3k, feedparser, feedfinder2, cssselect, newspaper3k\n",
            "Successfully installed cssselect-1.1.0 feedfinder2-0.0.4 feedparser-6.0.8 jieba3k-0.35.1 newspaper3k-0.2.8 requests-file-1.5.1 sgmllib3k-1.0.0 tinysegmenter-0.3 tldextract-3.1.0\n"
          ],
          "name": "stdout"
        }
      ]
    },
    {
      "cell_type": "code",
      "metadata": {
        "id": "oWSu14Dd_Oud"
      },
      "source": [
        "#Import the libraries\n",
        "import nltk\n",
        "from newspaper import Article"
      ],
      "execution_count": 2,
      "outputs": []
    },
    {
      "cell_type": "code",
      "metadata": {
        "id": "jCu7HZJ3_WF7"
      },
      "source": [
        "#Get the article\n",
        "url = 'https://edition.cnn.com/2021/08/24/politics/biden-afghanistan-weakens-the-west-globally-intl-cmd/index.html'\n",
        "article = Article(url)"
      ],
      "execution_count": 3,
      "outputs": []
    },
    {
      "cell_type": "code",
      "metadata": {
        "colab": {
          "base_uri": "https://localhost:8080/"
        },
        "id": "c_7YuoH1_a1T",
        "outputId": "5ced6215-329b-43dd-8e05-cd2ce00c2360"
      },
      "source": [
        "#Do NLP\n",
        "article.download()\n",
        "article.parse()\n",
        "nltk.download('punkt')\n",
        "article.nlp()"
      ],
      "execution_count": 4,
      "outputs": [
        {
          "output_type": "stream",
          "text": [
            "[nltk_data] Downloading package punkt to /root/nltk_data...\n",
            "[nltk_data]   Unzipping tokenizers/punkt.zip.\n"
          ],
          "name": "stdout"
        }
      ]
    },
    {
      "cell_type": "code",
      "metadata": {
        "colab": {
          "base_uri": "https://localhost:8080/"
        },
        "id": "f6kS4232_i94",
        "outputId": "953fffe3-16ae-4b44-b609-7172f3e43c97"
      },
      "source": [
        "#Get info about the article\n",
        "article.authors"
      ],
      "execution_count": 5,
      "outputs": [
        {
          "output_type": "execute_result",
          "data": {
            "text/plain": [
              "['Analysis Luke Mcgee']"
            ]
          },
          "metadata": {},
          "execution_count": 5
        }
      ]
    },
    {
      "cell_type": "code",
      "metadata": {
        "colab": {
          "base_uri": "https://localhost:8080/",
          "height": 35
        },
        "id": "e7UR6gqW_oeA",
        "outputId": "f0ac273f-577f-4488-98fc-451678035026"
      },
      "source": [
        "article.top_image"
      ],
      "execution_count": 6,
      "outputs": [
        {
          "output_type": "execute_result",
          "data": {
            "application/vnd.google.colaboratory.intrinsic+json": {
              "type": "string"
            },
            "text/plain": [
              "'https://cdn.cnn.com/cnnnext/dam/assets/210824100846-04-biden-afghanistan-april-2021-super-tease.jpg'"
            ]
          },
          "metadata": {},
          "execution_count": 6
        }
      ]
    },
    {
      "cell_type": "code",
      "metadata": {
        "colab": {
          "base_uri": "https://localhost:8080/"
        },
        "id": "vypntxPi_tSV",
        "outputId": "ec99c58f-07f3-481a-afa0-dd222abda0c6"
      },
      "source": [
        "article.publish_date"
      ],
      "execution_count": 7,
      "outputs": [
        {
          "output_type": "execute_result",
          "data": {
            "text/plain": [
              "datetime.datetime(2021, 8, 24, 0, 0)"
            ]
          },
          "metadata": {},
          "execution_count": 7
        }
      ]
    },
    {
      "cell_type": "code",
      "metadata": {
        "colab": {
          "base_uri": "https://localhost:8080/"
        },
        "id": "mRefqDla_wJc",
        "outputId": "2b56b41b-3ea3-4524-a626-bfe84b6fefdf"
      },
      "source": [
        "#Get the article's full text\n",
        "print(article.text)"
      ],
      "execution_count": 8,
      "outputs": [
        {
          "output_type": "stream",
          "text": [
            "London (CNN) The sudden fall of Kabul and the Taliban's near-total takeover of Afghanistan has left many of America's long-standing partners wondering what will become of the values-based, US-led international order.\n",
            "\n",
            "While President Joe Biden's withdrawal of troops by August 31 is inevitable, the speed at which the situation descended into chaos, and the White House's lack of contrition and flexibility has left allies spinning.\n",
            "\n",
            "On Tuesday, Biden's fellow G7 leaders, led by British Prime Minister Boris Johnson, pressed the US President to extend that deadline in order to get foreign citizens, Afghan people who have aided allied troops and other vulnerable groups out of the country. But Biden stood firm.\n",
            "\n",
            "As America's allies -- most notably in Europe -- see it the United States is walking away, washing its hands of a crisis it played a large part in creating, and with scant regard for the problems that doing so creates elsewhere.\n",
            "\n",
            "Refugees from Afghanistan wait to board a bus after arriving and being processed at Dulles International Airport in Dulles, Virginia on August 23, 2021. Around 16,000 people were evacuated over the past 24 hours from Afghanistan through the Kabul airport, the Pentagon said on August 23, 2021, as the US speeds toward completing its airlift by an August 31 deadline.\n",
            "\n",
            "The reason this is so hard for allies to swallow is because so much of the world's foreign policy, especially in Europe, is based on the assumption that the US's commitments to the values-based Western order, through the UN and NATO, are iron-clad.\n",
            "\n",
            "Europe's reliance on the US in terms of international affairs is nothing new. Throughout the Trump presidency, European diplomats and officials repeatedly spoke with CNN about the need for something they call strategic autonomy. However, a lack of any coherent policy has slowed these efforts -- and in the context of Afghanistan, that means when the US withdraws, everyone withdraws.\n",
            "\n",
            "NATO's treaty opens with the pledge that: \"The Parties to this Treaty reaffirm their faith in the purposes and principles of the Charter of the United Nations and their desire to live in peace with all peoples and all governments.\"\n",
            "\n",
            "The UN charter it references reads: \"The purposes of the United Nations are ... To maintain international peace and security, and to that end ... to take effective collective measures for the prevention and removal of threats to the peace.\"\n",
            "\n",
            "Critics are struggling to see just how Biden's recent behavior squares with these commitments -- and worry that it confirms America's retreat from the world stage. Biden has argued however that his country's anti-terror mission in Afghanistan was achieved a decade ago -- when American troops killed Al Qaeda leader Osama bin Laden -- and that the US is still a leader elsewhere on the global stage, including in humanitarian efforts.\n",
            "\n",
            "Speaking on Tuesday about his meeting with the G7, Biden told press: \"We talked about our mutual obligation to support refugees and evacuees currently fleeing Afghanistan. The United States will be a leader in these efforts and we'll look to the international community and to our partners to do the same.\"\n",
            "\n",
            "\"All of us agree that we're going to stand shoulder to shoulder with our closest partners to meet the current challenges we face in Afghanistan, just as we have for the past 20 years,\" he also said.\n",
            "\n",
            "But many have doubts about what that means in practice.\n",
            "\n",
            "\"To me, this shows is the end of one geopolitical era, which was about creating a liberal international order, and the beginning of a new one, which is about the competition between China and America,\" said Mark Leonard, director of the European Council on Foreign Relations, ealier on Tuesday.\n",
            "\n",
            "A Taliban fighter stands guard at a checkpoint in the Wazir Akbar Khan neighborhood in the city of Kabul, Afghanistan, Sunday, Aug. 22, 2021.\n",
            "\n",
            "America's exit from a key strategic area has also created opportunities for its international enemies to increase their influence in Afghanistan on very different terms to those required from the West.\n",
            "\n",
            "Historically, American -- and by extension Western -- support for countries like Afghanistan was given on a quid pro quo basis.\n",
            "\n",
            "\"What made support from the West so attractive to countries around the world was the underpinned commitment to helping countries build liberal, open democracies and a society grounded in the rule of law,\" says David Lidington, chair of the Royal United Services Institute and a former deputy Prime Minister of the UK.\n",
            "\n",
            "\"One of the consequences of the defeat in Afghanistan is the lack of confidence in the West, which can only be a good thing for China and Russia who can offer their support with zero regard for rule of law or human rights,\" he adds.\n",
            "\n",
            "China's new relationship with the Taliban was already in the works back in July, before the militant group took control of the country. China's foreign minister, Wang Yi, met a Taliban delegation in northern China, where the two sides reached an agreement: China would help with Afghanistan's reconstruction, and in exchange the Taliban would ensure regional stability.\n",
            "\n",
            "As CNN has reported, the fall of a stable Afghan government and subsequent triumph of the Taliban is not necessarily a good thing for China and, in some respects, presents more of a headache that anything else.\n",
            "\n",
            "However, the early stage at which China met with Taliban leaders confirmed the perception, at least in the eyes of America's European allies, that China is ready to capitalize on the void left by the US -- if unlikely to fill it militarily. Based on current reports from Afghanistan, how the Taliban achieves stability now is unlikely to meet the Western human rights standards -- but might not pose an obstacle to Beijing's support, given China's own poor record on human rights.\n",
            "\n",
            "Russia has also made overtures to the Taliban in recent days, with its foreign ministry saying it would not evacuate its embassy as Kabul fell. Though the Taliban is -- at least on paper -- officially proscribed by Moscow, the Kremlin does have working contacts with the Taliban, who, it claimed, have \"started to restore public order\" since seizing power.\n",
            "\n",
            "This is the same Russia that supported stability in Syria by providing its brutal president, Bashar al-Assad, with firepower and aiding in airstrikes against rebel groups. Russia has denied this, saying it was exclusively targeting ISIS.\n",
            "\n",
            "It is also the same Russia in which opponents of the Kremlin are poisoned and imprisoned.\n",
            "\n",
            "TOPSHOT - Afghans gather on a roadside near the military part of the airport in Kabul on August 20, 2021, hoping to flee from the country after the Taliban's military takeover of Afghanistan.\n",
            "\n",
            "China and Russia have in recent years acted in tandem, using international institutions to poke the West in the eye.\n",
            "\n",
            "According to Velina Tchakarova, director of the Austrian Institute for European and Security Policy, China and Russia are already \"operating within the existing global order with the clear goal of disrupting it, dismantling its multilateral structures\" to further competing views of multilateralism that contradict the West's.\n",
            "\n",
            "\"Coordinated efforts by China and Russia in the UN Security Council (e.g., Iran and now likely Afghanistan) and other international organizations will continue to grow as both states seek to improve their international image as norm-setters in a rapidly changing rules-based world order,\" she adds.\n",
            "\n",
            "The withdrawal of troops from Afghanistan, and the subsequent race to evacuate vulnerable people, fits into this narrative.\n",
            "\n",
            "Rightly or wrongly, the US's commitment to withdraw by such a hard deadline will be seen as the catalyst for the Taliban taking control of the country. How it handles the consequences of that will likely color how both its allies and its enemies view the US's legacy in Afghanistan.\n",
            "\n",
            "Leslie Vinjamuri, director of the US and the Americas Programme at Chatham House, says people will \"judge the US in Afghanistan based on how it manages the unfolding humanitarian situation, whether it takes large numbers of immigrants, what kind of humanitarian assistance it commits to.\"\n",
            "\n",
            "She adds that if \"Afghanistan descends into a failed state or a grave humanitarian crisis unfolds, many people will blame the US, rightly or wrongly. And undoubtedly this will feed into the narrative of US hypocrisy when it comes to human rights.\"\n",
            "\n",
            "By extension, that blame and those accusations of hypocrisy, will also land at the feet of the Western allies who, once the US decided it was time to leave, had no choice but to go too. And that provides one hell of an opportunity for those who wish to take the West's place on the world stage -- without the moral obligations.\n",
            "\n",
            "Taliban fighters stand guard in front of the Hamid Karzai International Airport, in Kabul, Afghanistan, Monday, Aug. 16, 2021.\n",
            "\n",
            "The fight for Afghanistan may be over, but some believe there is still work for the West to do.\n",
            "\n",
            "Tom Tugendhat, a British lawmaker who served in Afghanistan and chairs the Foreign Affairs Select Committee, thinks that the Western alliance still has a role to play in Afghanistan -- one which will have global implications.\n",
            "\n",
            "\"We can invest in the UN and start and use its programs to support the Afghan people,\" Tugendhat said. \"We can bring in regional partners in India, Pakistan, Uzbekistan and others to work together. The Taliban isn't universally popular, but it is inspiring others. Islamist groups in Africa and in Asia are drawing inspiration and we need to work with partners around the world. We need to start acting internationally.\"\n",
            "\n",
            "The reputational cost to the West of what's happening in Afghanistan won't be fully known for some time. What is clear for now is that if America's allies want the option to serve their own interests globally, they need to accept that as things stand, they are inadequate.\n",
            "\n",
            "That means countries that have for so long relied on the stability of the US commitment to promoting Western values will need to rethink their foreign policy.\n",
            "\n",
            "If Mark Leonard is correct, and this really is the end of a geopolitical era, those countries will need to refocus their priorities on a new, scary basis: That the US simply isn't that interested anymore.\n"
          ],
          "name": "stdout"
        }
      ]
    },
    {
      "cell_type": "code",
      "metadata": {
        "colab": {
          "base_uri": "https://localhost:8080/"
        },
        "id": "Db0zVQ-U_00-",
        "outputId": "434bbcd8-30d3-4a91-a4c2-2a12d8ff63ec"
      },
      "source": [
        "#get the summary\n",
        "print(article.summary)"
      ],
      "execution_count": 9,
      "outputs": [
        {
          "output_type": "stream",
          "text": [
            "London (CNN) The sudden fall of Kabul and the Taliban's near-total takeover of Afghanistan has left many of America's long-standing partners wondering what will become of the values-based, US-led international order.\n",
            "Historically, American -- and by extension Western -- support for countries like Afghanistan was given on a quid pro quo basis.\n",
            "China and Russia have in recent years acted in tandem, using international institutions to poke the West in the eye.\n",
            "How it handles the consequences of that will likely color how both its allies and its enemies view the US's legacy in Afghanistan.\n",
            "Taliban fighters stand guard in front of the Hamid Karzai International Airport, in Kabul, Afghanistan, Monday, Aug. 16, 2021.\n"
          ],
          "name": "stdout"
        }
      ]
    }
  ]
}